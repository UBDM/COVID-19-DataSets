{
 "cells": [
  {
   "cell_type": "code",
   "execution_count": 1,
   "metadata": {
    "scrolled": true
   },
   "outputs": [
    {
     "name": "stdout",
     "output_type": "stream",
     "text": [
      "Requirement already satisfied: plotly in /anaconda3/lib/python3.7/site-packages (4.3.0)\n",
      "Requirement already satisfied: retrying>=1.3.3 in /anaconda3/lib/python3.7/site-packages (from plotly) (1.3.3)\n",
      "Requirement already satisfied: six in /anaconda3/lib/python3.7/site-packages (from plotly) (1.13.0)\n",
      "Requirement already satisfied: keras in /anaconda3/lib/python3.7/site-packages (2.3.1)\n",
      "Requirement already satisfied: six>=1.9.0 in /anaconda3/lib/python3.7/site-packages (from keras) (1.13.0)\n",
      "Requirement already satisfied: numpy>=1.9.1 in /anaconda3/lib/python3.7/site-packages (from keras) (1.18.1)\n",
      "Requirement already satisfied: keras-preprocessing>=1.0.5 in /anaconda3/lib/python3.7/site-packages (from keras) (1.1.0)\n",
      "Requirement already satisfied: h5py in /anaconda3/lib/python3.7/site-packages (from keras) (2.9.0)\n",
      "Requirement already satisfied: pyyaml in /anaconda3/lib/python3.7/site-packages (from keras) (5.1.2)\n",
      "Requirement already satisfied: scipy>=0.14 in /anaconda3/lib/python3.7/site-packages (from keras) (1.4.1)\n",
      "Requirement already satisfied: keras-applications>=1.0.6 in /anaconda3/lib/python3.7/site-packages (from keras) (1.0.8)\n"
     ]
    }
   ],
   "source": [
    "\n",
    "import sys\n",
    "!{sys.executable} -m pip install plotly\n",
    "!{sys.executable} -m pip install keras"
   ]
  },
  {
   "cell_type": "code",
   "execution_count": 2,
   "metadata": {
    "scrolled": true
   },
   "outputs": [],
   "source": [
    "import pandas as pd\n",
    "import matplotlib.pyplot as plt\n",
    "\n",
    "\n",
    "import matplotlib.pyplot as plt\n",
    "import plotly.express as px\n",
    "import plotly.graph_objects as go\n",
    "from plotly.subplots import make_subplots\n",
    "\n",
    "# predefine color pallette alias\n",
    "cnf = 'grey' # confirmed\n",
    "dth = 'red' # death\n",
    "rec = 'lightgreen' # recovered\n",
    "act = 'orange' # active\n"
   ]
  },
  {
   "cell_type": "markdown",
   "metadata": {},
   "source": [
    "## Train / Test Data"
   ]
  },
  {
   "cell_type": "code",
   "execution_count": 3,
   "metadata": {
    "scrolled": true
   },
   "outputs": [],
   "source": [
    "train_df = pd.read_csv('train.csv')\n",
    "\n",
    "test_df = pd.read_csv('test.csv')\n",
    "\n",
    "train_df.Country_Region.unique()\n",
    "\n",
    "country = 'Korea, South'\n",
    "df = train_df[train_df.Date > \"2020-03-01\"].groupby(['Country_Region', 'Date']).agg({'Fatalities': \"sum\"}).reset_index()\n",
    "US_fatalities = df[df.Country_Region == country].Fatalities.cumsum()\n",
    "Dates = df[df.Country_Region == country]['Date']"
   ]
  },
  {
   "cell_type": "markdown",
   "metadata": {},
   "source": [
    "## Lockdown dates"
   ]
  },
  {
   "cell_type": "markdown",
   "metadata": {},
   "source": [
    "https://www.google.com/url?q=https://www.kaggle.com/jcyzag/covid19-lockdown-dates-by-country&sa=D&source=hangouts&ust=1586208801191000&usg=AFQjCNFZ9u9aN068Y5u0AIXUyx-eBRrP-A"
   ]
  },
  {
   "cell_type": "code",
   "execution_count": 4,
   "metadata": {
    "scrolled": true
   },
   "outputs": [],
   "source": [
    "lockdown = pd.read_csv(\"countryLockdowndates.csv\")\n",
    "\n",
    "lockdown.columns = ['Country_Region', 'Province_State', 'Date_lockdown', 'Type', 'Reference']\n",
    "\n",
    "lowckdown_df = train_df.merge(lockdown, on=['Country_Region', 'Province_State'], how='left')"
   ]
  },
  {
   "cell_type": "markdown",
   "metadata": {},
   "source": [
    "## Measures"
   ]
  },
  {
   "cell_type": "markdown",
   "metadata": {},
   "source": [
    "https://www.kaggle.com/roche-data-science-coalition/uncover#acaps-covid-19-government-measures-dataset.csv"
   ]
  },
  {
   "cell_type": "code",
   "execution_count": 5,
   "metadata": {
    "scrolled": true
   },
   "outputs": [],
   "source": [
    "measures = pd.read_csv(\"acaps-covid-19-government-measures-dataset.csv\")\n",
    "\n",
    "countries = measures.country.unique().tolist()\n",
    "\n",
    "df_countries = train_df.Country_Region.tolist()\n",
    "\n",
    "measures.columns = ['id', 'Country_Region', 'iso', 'admin_level_name', 'pcode', 'region',\n",
    "       'category', 'measure', 'targeted_pop_group', 'comments',\n",
    "       'measures_date_implemented', 'source', 'source_type', 'link', 'entry_date',\n",
    "       'alternative_source']\n",
    "\n",
    "measures = measures[[\n",
    "    'id', 'Country_Region', 'category', 'measure', 'targeted_pop_group', 'comments', 'measures_date_implemented'\n",
    "    ]]\n",
    "\n",
    "measures[\"Country_Region\"].replace({\n",
    "    \"United States of America\": \"US\",\n",
    "    \"Russia\": \"Russian Federation\",\n",
    "    \"Viet Nam\": \"Vietnam\",\n",
    "    \"Korea Republic of\": \"Korea, South\",\n",
    "    \"Czech Republic\":\"Korea, South\"\n",
    "    }, inplace=True)\n",
    "\n",
    "measures['category'] = measures.category.str.lower()\n",
    "\n",
    "measures['measure'] =  measures.measure.str.lower()\n",
    "\n",
    "measures['measures_date_implemented'] = pd.to_datetime(measures[\"measures_date_implemented\"], errors='coerce')\n",
    "\n",
    "measures_country = measures.groupby(['Country_Region', 'measure']).agg({'measures_date_implemented': 'min'}).reset_index()\n",
    "\n"
   ]
  },
  {
   "cell_type": "code",
   "execution_count": 6,
   "metadata": {},
   "outputs": [],
   "source": [
    "\n",
    "pivot_measures = pd.pivot_table(measures_country, values='measures_date_implemented', index=['Country_Region'],\n",
    "                    columns=['measure'], aggfunc='min')\n",
    "pivot_measures = pivot_measures.reset_index()\n"
   ]
  },
  {
   "cell_type": "code",
   "execution_count": 7,
   "metadata": {
    "scrolled": true
   },
   "outputs": [],
   "source": [
    "lowckdown_df.Date = pd.to_datetime(lowckdown_df.Date)\n",
    "lockdown_measure_df = lowckdown_df.merge(\n",
    "    pivot_measures, left_on=['Country_Region'], right_on=['Country_Region'], how='left')\n"
   ]
  },
  {
   "cell_type": "code",
   "execution_count": 8,
   "metadata": {
    "scrolled": true
   },
   "outputs": [],
   "source": [
    "for column in pivot_measures.columns.tolist():\n",
    "    if column in ['Country_Region', 'measures_date_implemented']:\n",
    "        continue\n",
    "    lockdown_measure_df.loc[lockdown_measure_df['Date'] >= pd.to_datetime(lockdown_measure_df[column]), column+'_flag'] = 1\n",
    "    lockdown_measure_df.drop(columns=[column], inplace=True)\n"
   ]
  },
  {
   "cell_type": "code",
   "execution_count": 9,
   "metadata": {
    "scrolled": true
   },
   "outputs": [],
   "source": [
    "lockdown_measure_df.fillna(0.0, inplace=True)"
   ]
  },
  {
   "cell_type": "code",
   "execution_count": 10,
   "metadata": {
    "scrolled": true
   },
   "outputs": [],
   "source": [
    "location_global = pd.read_csv(\"time_series_covid19_confirmed_global.csv\")[['Province/State', 'Country/Region', 'Lat', 'Long']\n",
    "                                                                  ].rename(columns={\n",
    "                    'Province/State': 'Province_State',\n",
    "                    'Country/Region': 'Country_Region'\n",
    "})\n",
    "\n",
    "location_us = pd.read_csv(\"time_series_covid19_confirmed_US.csv\")[['Province_State', 'Country_Region', 'Lat', 'Long_']\n",
    "                                                                  ].rename(columns={\n",
    "                    'Long_': 'Long'\n",
    "})\n",
    "\n",
    "location = location_global.append(location_us)\n",
    "\n",
    "\n",
    "location = location[(location.Lat != 0) & (location.Long != 0)].drop_duplicates(\n",
    "    ['Province_State', 'Country_Region'])\n",
    "\n",
    "location\n",
    "\n",
    "\n",
    "lockdown_geo = lockdown_measure_df.merge(\n",
    "    location.fillna(0.0), on=['Country_Region', 'Province_State'], how='left')"
   ]
  },
  {
   "cell_type": "markdown",
   "metadata": {},
   "source": [
    "Map"
   ]
  },
  {
   "cell_type": "code",
   "execution_count": 21,
   "metadata": {
    "scrolled": false
   },
   "outputs": [
    {
     "data": {
      "application/vnd.plotly.v1+json": {
       "config": {
        "plotlyServerURL": "https://plot.ly"
       },
       "data": [
        {
         "customdata": [
          [
           299
          ],
          [
           333
          ],
          [
           1251
          ],
          [
           466
          ],
          [
           10
          ],
          [
           15
          ],
          [
           1451
          ],
          [
           770
          ],
          [
           11781
          ],
          [
           521
          ],
          [
           28
          ],
          [
           688
          ],
          [
           70
          ],
          [
           52
          ],
          [
           440
          ],
          [
           18431
          ],
          [
           4
          ],
          [
           16
          ],
          [
           5
          ],
          [
           139
          ],
          [
           624
          ],
          [
           4
          ],
          [
           10360
          ],
          [
           135
          ],
          [
           503
          ],
          [
           318
          ],
          [
           21
          ],
          [
           3
          ],
          [
           7
          ],
          [
           114
          ],
          [
           555
          ],
          [
           8
          ],
          [
           9
          ],
          [
           4161
          ],
          [
           1406
          ],
          [
           22
          ],
          [
           154
          ],
          [
           435
          ],
          [
           245
          ],
          [
           1126
          ],
          [
           288
          ],
          [
           426
          ],
          [
           4472
          ],
          [
           4077
          ],
          [
           712
          ],
          [
           50
          ],
          [
           14
          ],
          [
           1488
          ],
          [
           3465
          ],
          [
           1070
          ],
          [
           56
          ],
          [
           16
          ],
          [
           29
          ],
          [
           1039
          ],
          [
           9
          ],
          [
           38
          ],
          [
           12
          ],
          [
           1882
          ],
          [
           89953
          ],
          [
           21
          ],
          [
           4
          ],
          [
           162
          ],
          [
           96092
          ],
          [
           205
          ],
          [
           1673
          ],
          [
           12
          ],
          [
           61
          ],
          [
           111
          ],
          [
           18
          ],
          [
           23
          ],
          [
           20
          ],
          [
           7
          ],
          [
           264
          ],
          [
           678
          ],
          [
           1417
          ],
          [
           3082
          ],
          [
           2092
          ],
          [
           55743
          ],
          [
           878
          ],
          [
           4604
          ],
          [
           7851
          ],
          [
           124632
          ],
          [
           53
          ],
          [
           3139
          ],
          [
           323
          ],
          [
           531
          ],
          [
           126
          ],
          [
           10156
          ],
          [
           135
          ],
          [
           479
          ],
          [
           144
          ],
          [
           10
          ],
          [
           509
          ],
          [
           520
          ],
          [
           10
          ],
          [
           18
          ],
          [
           77
          ],
          [
           771
          ],
          [
           2729
          ],
          [
           9
          ],
          [
           70
          ],
          [
           3483
          ],
          [
           19
          ],
          [
           41
          ],
          [
           213
          ],
          [
           6
          ],
          [
           196
          ],
          [
           1688
          ],
          [
           752
          ],
          [
           66
          ],
          [
           14
          ],
          [
           201
          ],
          [
           919
          ],
          [
           10
          ],
          [
           14
          ],
          [
           9
          ],
          [
           16627
          ],
          [
           950
          ],
          [
           5
          ],
          [
           144
          ],
          [
           214
          ],
          [
           483
          ],
          [
           5550
          ],
          [
           277
          ],
          [
           2818
          ],
          [
           1673
          ],
          [
           1
          ],
          [
           96
          ],
          [
           1746
          ],
          [
           3094
          ],
          [
           3627
          ],
          [
           10524
          ],
          [
           1325
          ],
          [
           3613
          ],
          [
           4731
          ],
          [
           102
          ],
          [
           9
          ],
          [
           14
          ],
          [
           7
          ],
          [
           259
          ],
          [
           2179
          ],
          [
           219
          ],
          [
           1624
          ],
          [
           10
          ],
          [
           4
          ],
          [
           1189
          ],
          [
           471
          ],
          [
           977
          ],
          [
           7
          ],
          [
           1585
          ],
          [
           126168
          ],
          [
           166
          ],
          [
           10
          ],
          [
           10
          ],
          [
           6443
          ],
          [
           20505
          ],
          [
           16
          ],
          [
           355
          ],
          [
           20
          ],
          [
           2067
          ],
          [
           1
          ],
          [
           41
          ],
          [
           103
          ],
          [
           553
          ],
          [
           23934
          ],
          [
           48
          ],
          [
           1225
          ],
          [
           1505
          ],
          [
           41903
          ],
          [
           400
          ],
          [
           266
          ],
          [
           155
          ],
          [
           240
          ],
          [
           217
          ],
          [
           39
          ],
          [
           9
          ],
          [
           1614
          ],
          [
           171
          ],
          [
           1075
          ],
          [
           3
          ],
          [
           990
          ],
          [
           2187
          ],
          [
           743
          ],
          [
           64
          ],
          [
           93
          ],
          [
           585
          ],
          [
           35
          ],
          [
           1203
          ],
          [
           3
          ],
          [
           12837
          ],
          [
           35
          ],
          [
           262
          ],
          [
           579
          ],
          [
           4188
          ],
          [
           5276
          ],
          [
           11
          ],
          [
           593
          ],
          [
           902
          ],
          [
           181
          ],
          [
           11545
          ],
          [
           61
          ],
          [
           40
          ],
          [
           350
          ],
          [
           138
          ],
          [
           6160
          ],
          [
           98
          ],
          [
           11
          ],
          [
           134
          ],
          [
           93
          ],
          [
           1516
          ],
          [
           254
          ],
          [
           147
          ],
          [
           168
          ],
          [
           351
          ],
          [
           326
          ],
          [
           491
          ],
          [
           1276
          ],
          [
           862
          ],
          [
           67803
          ],
          [
           1019
          ],
          [
           1022
          ],
          [
           10357
          ],
          [
           3953
          ],
          [
           117
          ],
          [
           787
          ],
          [
           126
          ],
          [
           651
          ],
          [
           937
          ],
          [
           98
          ],
          [
           698
          ],
          [
           917
          ],
          [
           141
          ],
          [
           12496
          ],
          [
           43
          ],
          [
           456
          ],
          [
           182
          ],
          [
           145
          ],
          [
           3125
          ],
          [
           11736
          ],
          [
           134
          ],
          [
           14225
          ],
          [
           865
          ],
          [
           1455
          ],
          [
           2310
          ],
          [
           265
          ],
          [
           6
          ],
          [
           321
          ],
          [
           1742
          ],
          [
           91
          ],
          [
           18
          ],
          [
           540
          ],
          [
           34124
          ],
          [
           534
          ],
          [
           2493
          ],
          [
           113833
          ],
          [
           195
          ],
          [
           75
          ],
          [
           2486
          ],
          [
           186
          ],
          [
           26
          ],
          [
           4
          ],
          [
           236
          ],
          [
           3739
          ],
          [
           1161
          ],
          [
           3630
          ],
          [
           899
          ],
          [
           10444
          ],
          [
           22
          ],
          [
           452
          ],
          [
           18
          ],
          [
           6101
          ],
          [
           900
          ],
          [
           334
          ],
          [
           806
          ],
          [
           6
          ],
          [
           220
          ],
          [
           256
          ],
          [
           778
          ],
          [
           529
          ],
          [
           137
          ],
          [
           557
          ],
          [
           23
          ],
          [
           407
          ],
          [
           1917
          ],
          [
           212
          ],
          [
           24
          ],
          [
           80
          ],
          [
           3322
          ],
          [
           6556
          ],
          [
           180
          ],
          [
           1
          ],
          [
           6
          ],
          [
           1435
          ],
          [
           461
          ],
          [
           1115
          ],
          [
           40
          ],
          [
           2407
          ],
          [
           7247
          ],
          [
           282
          ],
          [
           436
          ],
          [
           2030
          ],
          [
           187
          ],
          [
           76
          ],
          [
           6
          ],
          [
           184
          ],
          [
           1262
          ]
         ],
         "geo": "geo",
         "hoverlabel": {
          "namelength": 0
         },
         "hovertemplate": "<b>%{hovertext}</b><br><br>Size=%{marker.size}<br>ConfirmedCases=%{customdata[0]}<br>Lat=%{lat}<br>Long=%{lon}",
         "hovertext": [
          "0.0 / Afghanistan",
          "0.0 / Albania",
          "0.0 / Algeria",
          "0.0 / Andorra",
          "0.0 / Angola",
          "0.0 / Antigua and Barbuda",
          "0.0 / Argentina",
          "0.0 / Armenia",
          "0.0 / Austria",
          "0.0 / Azerbaijan",
          "0.0 / Bahamas",
          "0.0 / Bahrain",
          "0.0 / Bangladesh",
          "0.0 / Barbados",
          "0.0 / Belarus",
          "0.0 / Belgium",
          "0.0 / Belize",
          "0.0 / Benin",
          "0.0 / Bhutan",
          "0.0 / Bolivia",
          "0.0 / Bosnia and Herzegovina",
          "0.0 / Botswana",
          "0.0 / Brazil",
          "0.0 / Brunei",
          "0.0 / Bulgaria",
          "0.0 / Burkina Faso",
          "0.0 / Burma",
          "0.0 / Burundi",
          "0.0 / Cabo Verde",
          "0.0 / Cambodia",
          "0.0 / Cameroon",
          "0.0 / Central African Republic",
          "0.0 / Chad",
          "0.0 / Chile",
          "0.0 / Colombia",
          "0.0 / Congo (Brazzaville)",
          "0.0 / Congo (Kinshasa)",
          "0.0 / Costa Rica",
          "0.0 / Cote d'Ivoire",
          "0.0 / Croatia",
          "0.0 / Cuba",
          "0.0 / Cyprus",
          "0.0 / Czechia",
          "0.0 / Denmark",
          "0.0 / Diamond Princess",
          "0.0 / Djibouti",
          "0.0 / Dominica",
          "0.0 / Dominican Republic",
          "0.0 / Ecuador",
          "0.0 / Egypt",
          "0.0 / El Salvador",
          "0.0 / Equatorial Guinea",
          "0.0 / Eritrea",
          "0.0 / Estonia",
          "0.0 / Eswatini",
          "0.0 / Ethiopia",
          "0.0 / Fiji",
          "0.0 / Finland",
          "0.0 / France",
          "0.0 / Gabon",
          "0.0 / Gambia",
          "0.0 / Georgia",
          "0.0 / Germany",
          "0.0 / Ghana",
          "0.0 / Greece",
          "0.0 / Grenada",
          "0.0 / Guatemala",
          "0.0 / Guinea",
          "0.0 / Guinea-Bissau",
          "0.0 / Guyana",
          "0.0 / Haiti",
          "0.0 / Holy See",
          "0.0 / Honduras",
          "0.0 / Hungary",
          "0.0 / Iceland",
          "0.0 / India",
          "0.0 / Indonesia",
          "0.0 / Iran",
          "0.0 / Iraq",
          "0.0 / Ireland",
          "0.0 / Israel",
          "0.0 / Italy",
          "0.0 / Jamaica",
          "0.0 / Japan",
          "0.0 / Jordan",
          "0.0 / Kazakhstan",
          "0.0 / Kenya",
          "0.0 / Korea, South",
          "0.0 / Kosovo",
          "0.0 / Kuwait",
          "0.0 / Kyrgyzstan",
          "0.0 / Laos",
          "0.0 / Latvia",
          "0.0 / Lebanon",
          "0.0 / Liberia",
          "0.0 / Libya",
          "0.0 / Liechtenstein",
          "0.0 / Lithuania",
          "0.0 / Luxembourg",
          "0.0 / MS Zaandam",
          "0.0 / Madagascar",
          "0.0 / Malaysia",
          "0.0 / Maldives",
          "0.0 / Mali",
          "0.0 / Malta",
          "0.0 / Mauritania",
          "0.0 / Mauritius",
          "0.0 / Mexico",
          "0.0 / Moldova",
          "0.0 / Monaco",
          "0.0 / Mongolia",
          "0.0 / Montenegro",
          "0.0 / Morocco",
          "0.0 / Mozambique",
          "0.0 / Namibia",
          "0.0 / Nepal",
          "0.0 / Netherlands",
          "0.0 / New Zealand",
          "0.0 / Nicaragua",
          "0.0 / Niger",
          "0.0 / Nigeria",
          "0.0 / North Macedonia",
          "0.0 / Norway",
          "0.0 / Oman",
          "0.0 / Pakistan",
          "0.0 / Panama",
          "0.0 / Papua New Guinea",
          "0.0 / Paraguay",
          "0.0 / Peru",
          "0.0 / Philippines",
          "0.0 / Poland",
          "0.0 / Portugal",
          "0.0 / Qatar",
          "0.0 / Romania",
          "0.0 / Russia",
          "0.0 / Rwanda",
          "0.0 / Saint Kitts and Nevis",
          "0.0 / Saint Lucia",
          "0.0 / Saint Vincent and the Grenadines",
          "0.0 / San Marino",
          "0.0 / Saudi Arabia",
          "0.0 / Senegal",
          "0.0 / Serbia",
          "0.0 / Seychelles",
          "0.0 / Sierra Leone",
          "0.0 / Singapore",
          "0.0 / Slovakia",
          "0.0 / Slovenia",
          "0.0 / Somalia",
          "0.0 / South Africa",
          "0.0 / Spain",
          "0.0 / Sri Lanka",
          "0.0 / Sudan",
          "0.0 / Suriname",
          "0.0 / Sweden",
          "0.0 / Switzerland",
          "0.0 / Syria",
          "0.0 / Taiwan*",
          "0.0 / Tanzania",
          "0.0 / Thailand",
          "0.0 / Timor-Leste",
          "0.0 / Togo",
          "0.0 / Trinidad and Tobago",
          "0.0 / Tunisia",
          "0.0 / Turkey",
          "0.0 / Uganda",
          "0.0 / Ukraine",
          "0.0 / United Arab Emirates",
          "0.0 / United Kingdom",
          "0.0 / Uruguay",
          "0.0 / Uzbekistan",
          "0.0 / Venezuela",
          "0.0 / Vietnam",
          "0.0 / West Bank and Gaza",
          "0.0 / Zambia",
          "0.0 / Zimbabwe",
          "Alabama / US",
          "Alaska / US",
          "Alberta / Canada",
          "Anguilla / United Kingdom",
          "Anhui / China",
          "Arizona / US",
          "Arkansas / US",
          "Aruba / Netherlands",
          "Australian Capital Territory / Australia",
          "Beijing / China",
          "Bermuda / United Kingdom",
          "British Columbia / Canada",
          "British Virgin Islands / United Kingdom",
          "California / US",
          "Cayman Islands / United Kingdom",
          "Channel Islands / United Kingdom",
          "Chongqing / China",
          "Colorado / US",
          "Connecticut / US",
          "Curacao / Netherlands",
          "Delaware / US",
          "District of Columbia / US",
          "Faroe Islands / Denmark",
          "Florida / US",
          "French Guiana / France",
          "French Polynesia / France",
          "Fujian / China",
          "Gansu / China",
          "Georgia / US",
          "Gibraltar / United Kingdom",
          "Greenland / Denmark",
          "Guadeloupe / France",
          "Guam / US",
          "Guangdong / China",
          "Guangxi / China",
          "Guizhou / China",
          "Hainan / China",
          "Hawaii / US",
          "Hebei / China",
          "Heilongjiang / China",
          "Henan / China",
          "Hong Kong / China",
          "Hubei / China",
          "Hunan / China",
          "Idaho / US",
          "Illinois / US",
          "Indiana / US",
          "Inner Mongolia / China",
          "Iowa / US",
          "Isle of Man / United Kingdom",
          "Jiangsu / China",
          "Jiangxi / China",
          "Jilin / China",
          "Kansas / US",
          "Kentucky / US",
          "Liaoning / China",
          "Louisiana / US",
          "Macau / China",
          "Maine / US",
          "Manitoba / Canada",
          "Martinique / France",
          "Maryland / US",
          "Massachusetts / US",
          "Mayotte / France",
          "Michigan / US",
          "Minnesota / US",
          "Mississippi / US",
          "Missouri / US",
          "Montana / US",
          "Montserrat / United Kingdom",
          "Nebraska / US",
          "Nevada / US",
          "New Brunswick / Canada",
          "New Caledonia / France",
          "New Hampshire / US",
          "New Jersey / US",
          "New Mexico / US",
          "New South Wales / Australia",
          "New York / US",
          "Newfoundland and Labrador / Canada",
          "Ningxia / China",
          "North Carolina / US",
          "North Dakota / US",
          "Northern Territory / Australia",
          "Northwest Territories / Canada",
          "Nova Scotia / Canada",
          "Ohio / US",
          "Oklahoma / US",
          "Ontario / Canada",
          "Oregon / US",
          "Pennsylvania / US",
          "Prince Edward Island / Canada",
          "Puerto Rico / US",
          "Qinghai / China",
          "Quebec / Canada",
          "Queensland / Australia",
          "Reunion / France",
          "Rhode Island / US",
          "Saint Barthelemy / France",
          "Saskatchewan / Canada",
          "Shaanxi / China",
          "Shandong / China",
          "Shanghai / China",
          "Shanxi / China",
          "Sichuan / China",
          "Sint Maarten / Netherlands",
          "South Australia / Australia",
          "South Carolina / US",
          "South Dakota / US",
          "St Martin / France",
          "Tasmania / Australia",
          "Tennessee / US",
          "Texas / US",
          "Tianjin / China",
          "Tibet / China",
          "Turks and Caicos Islands / United Kingdom",
          "Utah / US",
          "Vermont / US",
          "Victoria / Australia",
          "Virgin Islands / US",
          "Virginia / US",
          "Washington / US",
          "West Virginia / US",
          "Western Australia / Australia",
          "Wisconsin / US",
          "Wyoming / US",
          "Xinjiang / China",
          "Yukon / Canada",
          "Yunnan / China",
          "Zhejiang / China"
         ],
         "lat": [
          33,
          41.1533,
          28.0339,
          42.5063,
          -11.2027,
          17.0608,
          -38.4161,
          40.0691,
          47.5162,
          40.1431,
          25.0343,
          26.0275,
          23.685,
          13.1939,
          53.7098,
          50.8333,
          13.1939,
          9.3077,
          27.5142,
          -16.2902,
          43.9159,
          -22.3285,
          -14.235,
          4.5353,
          42.7339,
          12.2383,
          21.9162,
          -3.3731,
          16.5388,
          11.55,
          3.848,
          6.6111,
          15.4542,
          -35.6751,
          4.5709,
          -4.0383,
          -4.0383,
          9.7489,
          7.54,
          45.1,
          22,
          35.1264,
          49.8175,
          56.2639,
          null,
          11.8251,
          15.415,
          18.7357,
          -1.8312,
          26,
          13.7942,
          1.5,
          15.1794,
          58.5953,
          -26.5225,
          9.145,
          -17.7134,
          64,
          46.2276,
          -0.8037,
          13.4432,
          42.3154,
          51,
          7.9465,
          39.0742,
          12.1165,
          15.7835,
          9.9456,
          11.8037,
          5,
          18.9712,
          41.9029,
          15.2,
          47.1625,
          64.9631,
          21,
          -0.7893,
          32,
          33,
          53.1424,
          31,
          43,
          18.1096,
          36,
          31.24,
          48.0196,
          -0.0236,
          36,
          42.602636,
          29.5,
          41.2044,
          19.85627,
          56.8796,
          33.8547,
          6.4281,
          26.3351,
          47.14,
          55.1694,
          49.8153,
          null,
          -18.7669,
          2.5,
          3.2028,
          17.570692,
          35.9375,
          21.0079,
          -20.2,
          23.6345,
          47.4116,
          43.7333,
          46.8625,
          42.5,
          31.7917,
          -18.665695,
          -22.9576,
          28.1667,
          52.1326,
          -40.9006,
          12.8654,
          17.6078,
          9.082,
          41.6086,
          60.472,
          21,
          30.3753,
          8.538,
          -6.315,
          -23.4425,
          -9.19,
          13,
          51.9194,
          39.3999,
          25.3548,
          45.9432,
          60,
          -1.9403,
          17.357822,
          13.9094,
          12.9843,
          43.9424,
          24,
          14.4974,
          44.0165,
          -4.6796,
          8.460555000000001,
          1.2833,
          48.669,
          46.1512,
          5.1521,
          -30.5595,
          40,
          7,
          12.8628,
          3.9193,
          63,
          46.8182,
          34.802075,
          23.7,
          -6.369,
          15,
          -8.874217,
          8.6195,
          10.6918,
          34,
          38.9637,
          1,
          48.3794,
          24,
          55.3781,
          -32.5228,
          41.3775,
          6.4238,
          16,
          31.9522,
          -15.4167,
          -20,
          32.53952745,
          55.32222414,
          53.9333,
          18.2206,
          31.8257,
          35.39465006,
          34.29145151,
          12.5186,
          -35.4735,
          40.1824,
          32.3078,
          49.2827,
          18.4207,
          37.64629437,
          19.3133,
          49.3723,
          30.0572,
          39.87432092,
          41.26809896,
          12.1696,
          39.08646628,
          38.90417773,
          61.8926,
          29.67866525,
          3.9339,
          -17.6797,
          26.0789,
          37.8099,
          31.74847232,
          36.1408,
          71.7069,
          16.25,
          13.4443,
          23.3417,
          23.8298,
          26.8154,
          19.1959,
          19.60121157,
          39.549,
          47.862,
          33.882,
          22.3,
          30.9756,
          27.6104,
          43.4526575,
          39.98815591,
          40.7457653,
          44.0935,
          41.33075609,
          54.2361,
          32.9711,
          27.614,
          43.6661,
          37.88582951,
          37.10459774,
          41.2956,
          30.295064899999996,
          22.1667,
          44.1664747,
          53.7609,
          14.6415,
          39.62357628,
          41.72980578,
          -12.8275,
          44.6846864,
          46.60962049,
          31.47669768,
          40.19058551,
          45.13434354,
          16.7425,
          40.52449420000001,
          39.58105744,
          46.5653,
          -20.9043,
          43.51637314,
          39.47538693,
          35.05163625,
          -33.8688,
          42.60060306,
          53.1355,
          37.2692,
          36.0434701,
          46.09686891,
          -12.4634,
          64.8255,
          44.682,
          38.84541072,
          35.88494195,
          51.2538,
          44.70915557,
          39.87140411,
          46.5107,
          18.2208,
          35.7452,
          52.9399,
          -28.0167,
          -21.1351,
          41.71018079,
          17.9,
          52.9399,
          35.1917,
          36.3427,
          31.202,
          37.5777,
          30.6171,
          18.0425,
          -34.9285,
          34.22333378,
          43.71757685,
          18.0708,
          -41.4545,
          36.12684348,
          31.81534745,
          39.3054,
          31.6927,
          21.69400000000001,
          38.35657051,
          44.03217337,
          -37.8136,
          18.3358,
          37.76707161,
          46.98299757,
          39.1307219,
          -31.9505,
          43.96974651,
          41.65498705,
          41.1129,
          64.2823,
          24.974,
          29.1832
         ],
         "legendgroup": "",
         "lon": [
          65,
          20.1683,
          1.6596,
          1.5218,
          17.8739,
          -61.7964,
          -63.6167,
          45.0382,
          14.5501,
          47.5769,
          -77.3963,
          50.55,
          90.3563,
          -59.5432,
          27.9534,
          4,
          -59.5432,
          2.3158,
          90.4336,
          -63.5887,
          17.6791,
          24.6849,
          -51.9253,
          114.7277,
          25.4858,
          -1.5616,
          95.956,
          29.9189,
          -23.0418,
          104.9167,
          11.5021,
          20.9394,
          18.7322,
          -71.543,
          -74.2973,
          21.7587,
          21.7587,
          -83.7534,
          -5.5471,
          15.2,
          -80,
          33.4299,
          15.473,
          9.5018,
          null,
          42.5903,
          -61.371,
          -70.1627,
          -78.1834,
          30,
          -88.8965,
          10,
          39.7823,
          25.0136,
          31.4659,
          40.4897,
          178.065,
          26,
          2.2137,
          11.6094,
          -15.3101,
          43.3569,
          9,
          -1.0232,
          21.8243,
          -61.679,
          -90.2308,
          -9.6966,
          -15.1804,
          -58.75,
          -72.2852,
          12.4534,
          -86.2419,
          19.5033,
          -19.0208,
          78,
          113.9213,
          53,
          44,
          -7.6921,
          35,
          12,
          -77.2975,
          138,
          36.51,
          66.9237,
          37.9062,
          128,
          20.902977,
          47.75,
          74.7661,
          102.495496,
          24.6032,
          35.8623,
          -9.4295,
          17.228331,
          9.55,
          23.8813,
          6.1296,
          null,
          46.8691,
          112.5,
          73.2207,
          -3.996166000000001,
          14.3754,
          10.9408,
          57.5,
          -102.5528,
          28.3699,
          7.4167,
          103.8467,
          19.3,
          -7.0926,
          35.529562,
          18.4904,
          84.25,
          5.2913,
          174.886,
          -85.2072,
          8.0817,
          8.6753,
          21.7453,
          8.4689,
          57,
          69.3451,
          -80.7821,
          143.9555,
          -58.4438,
          -75.0152,
          122,
          19.1451,
          -8.2245,
          51.1839,
          24.9668,
          90,
          29.8739,
          -62.782998,
          -60.9789,
          -61.2872,
          12.4578,
          45,
          -14.4524,
          21.0059,
          55.492,
          -11.779889,
          103.8333,
          19.699,
          14.9955,
          46.1996,
          22.9375,
          -4,
          81,
          30.2176,
          -56.0278,
          16,
          8.2275,
          38.99681500000001,
          121,
          34.8888,
          101,
          125.727539,
          0.8248,
          -61.2225,
          9,
          35.2433,
          32,
          31.1656,
          54,
          -3.4360000000000004,
          -55.7658,
          64.5853,
          -66.5897,
          108,
          35.2332,
          28.2833,
          30,
          -86.64408227,
          -161.9722021,
          -116.5765,
          -63.0686,
          117.2264,
          -109.4892383,
          -91.37277296,
          -70.0358,
          149.0124,
          116.4142,
          -64.7505,
          -123.1207,
          -64.64,
          -121.8929271,
          -81.2546,
          -2.3644,
          107.874,
          -104.3362578,
          -73.3881171,
          -68.99,
          -75.56884914,
          -77.01655992,
          -6.9118,
          -82.35928158,
          -53.1258,
          149.4068,
          117.9874,
          101.0583,
          -82.28909114,
          -5.3536,
          -42.6043,
          -61.5833,
          144.7937,
          113.4244,
          108.7881,
          106.8748,
          109.7453,
          -155.5210167,
          116.1306,
          127.7615,
          113.614,
          114.2,
          112.2707,
          111.7088,
          -116.24155159999998,
          -91.18786813,
          -84.93671406,
          113.9448,
          -94.47105874,
          -4.5481,
          119.455,
          115.7221,
          126.1923,
          -95.30030847,
          -85.28129668,
          122.6085,
          -92.41419698,
          113.55,
          -70.20380627,
          -98.8139,
          -61.0242,
          -78.69280486,
          -70.28854339,
          45.1662,
          -83.59507875,
          -93.41168259999999,
          -91.35326037,
          -92.60078167,
          -112.89846940000001,
          -62.1874,
          -98.50117804,
          -118.3394607,
          -66.4619,
          165.618,
          -71.41684235,
          -74.65848483,
          -106.6703554,
          151.2093,
          -73.97723916,
          -57.6604,
          106.1655,
          -79.39976137,
          -102.5285397,
          130.8456,
          -124.8457,
          -63.7443,
          -83.4718964,
          -94.65859267,
          -85.3232,
          -117.6749883,
          -77.21610347,
          -63.4168,
          -66.5901,
          95.9956,
          -73.5491,
          153.4,
          55.2471,
          -71.28652315,
          -62.8333,
          -106.4509,
          108.8701,
          118.1498,
          121.4491,
          112.2922,
          102.7103,
          -63.0548,
          138.6007,
          -82.46170658,
          -98.56050467,
          -63.0501,
          145.9707,
          -84.19965764,
          -95.65354823,
          117.323,
          88.0924,
          -71.7979,
          -113.2342232,
          -73.14130877,
          144.9631,
          -64.8963,
          -75.63234615,
          -118.56017340000001,
          -80.00350858,
          115.8605,
          -89.76782777,
          -105.72354150000001,
          85.2401,
          -135,
          101.487,
          120.0934
         ],
         "marker": {
          "color": "red",
          "size": [
           5.529697276636929,
           5.711277603102162,
           8.495270128442183,
           6.3170712455563445,
           1.9952623149688795,
           2.2533433808426553,
           8.881784338734908,
           7.344246036464962,
           16.647715552745957,
           6.532077322470661,
           2.717361446466631,
           7.100297264285194,
           3.5770862508726156,
           3.2719073933511478,
           6.209202203667457,
           19.03990029163225,
           1.515716566510398,
           2.2973967099940698,
           1.6206565966927624,
           4.39444911601279,
           6.895335100078801,
           1.515716566510398,
           16.017986622453577,
           4.356122964910856,
           6.463539325915487,
           5.632849346987297,
           2.4926757485402593,
           1.3903891703159093,
           1.792789962520997,
           4.1406779667657485,
           6.657143137060032,
           1.8660659830736148,
           1.9331820449317627,
           12.183142241285735,
           8.798235778866674,
           2.5277074255111027,
           4.531648500646097,
           6.187949732702651,
           5.208945641245127,
           8.23116897280053,
           5.4678645329573055,
           6.149260335167237,
           12.449460696851034,
           12.108830875668653,
           7.173713004945817,
           3.233635032886787,
           2.2071833466585673,
           8.949131286526445,
           11.532168295903801,
           8.10615928471357,
           3.345464363856254,
           2.2973967099940698,
           2.7461192933624785,
           8.034977487088787,
           1.9331820449317627,
           2.978071215719372,
           2.107435899344471,
           9.602534711234227,
           30.63406966066287,
           2.4926757485402593,
           1.515716566510398,
           4.601024060515672,
           31.24684476180277,
           4.937716580851732,
           9.269339357300531,
           2.107435899344471,
           3.432408355505487,
           4.1076827445401545,
           2.3800262745964407,
           2.5616415021458128,
           2.4564560522315806,
           1.792789962520997,
           5.326981371561689,
           7.069177852574754,
           8.81882968030793,
           11.13396342490016,
           9.912164572568123,
           26.53732244457397,
           7.639208345346838,
           12.558581678187851,
           14.739321542233359,
           33.78227316234038,
           3.2906580963691905,
           11.195342762583065,
           5.659274461400946,
           6.569440088225624,
           4.2668872156327415,
           15.922703484226249,
           4.356122964910856,
           6.369431245794232,
           4.44128606984584,
           1.9952623149688795,
           6.486573368802769,
           6.528313520021603,
           1.9952623149688795,
           2.3800262745964407,
           3.6808423540939335,
           7.347106131347071,
           10.734975576633445,
           1.9331820449317627,
           3.5770862508726156,
           11.550107925344308,
           2.4189454814875875,
           3.046738334899583,
           4.994751443057936,
           1.711769859409705,
           4.871658325766914,
           9.29419398531416,
           7.292313857121574,
           3.5144970301577456,
           2.2071833466585673,
           4.908613271164895,
           7.744522634891201,
           1.9952623149688795,
           2.2071833466585673,
           1.9331820449317627,
           18.460530153659153,
           7.8219868515814595,
           1.6206565966927624,
           4.44128606984584,
           5.001774775270484,
           6.385341648853108,
           13.28274682672959,
           5.404355766531817,
           10.838827302547989,
           9.269339357300531,
           1,
           3.932614443274868,
           9.388868833238613,
           11.146951019436264,
           11.691339356778556,
           16.09363886956442,
           8.64300498490005,
           11.677782668404177,
           12.661521139399715,
           4.004792800537097,
           1.9331820449317627,
           2.2071833466585673,
           1.792789962520997,
           5.296511617649519,
           10.03407098499466,
           5.0365509824526615,
           9.18704423484229,
           1.9952623149688795,
           1.515716566510398,
           8.366706923294817,
           6.33732926553518,
           7.888026648174017,
           1.792789962520997,
           9.120292773180678,
           33.906640811636414,
           4.634815240944689,
           1.9952623149688795,
           1.9952623149688795,
           13.89077380533084,
           19.658841993828315,
           2.2973967099940698,
           5.821950463835482,
           2.4564560522315806,
           9.876478962273579,
           1,
           3.046738334899583,
           4.01653140849876,
           6.64993712979363,
           20.59228716745556,
           3.194275505495155,
           8.441912115297926,
           8.97968185178614,
           24.359789722368134,
           6.034176336545163,
           5.339056183214393,
           4.54045639746107,
           5.176823669634831,
           5.022707877315739,
           3.001368927744568,
           1.9331820449317627,
           9.170036390122258,
           4.676261972480622,
           8.117504522858486,
           1.3903891703159093,
           7.919368619897125,
           10.045108566305139,
           7.266020923322288,
           3.4822022531844965,
           3.8953356412482822,
           6.76311480680004,
           2.9054968792442244,
           8.396140322126994,
           1.3903891703159093,
           17.08201356313939,
           2.9054968792442244,
           5.314842355900356,
           6.742230084519481,
           12.206804859352617,
           13.082520865124975,
           2.053136413658844,
           6.790729136639923,
           7.70126311271501,
           4.7566760209420424,
           16.54695863299635,
           3.432408355505487,
           3.0242521453322184,
           5.797228429415687,
           4.384940713986203,
           13.704847699970488,
           3.9570161493329823,
           2.053136413658844,
           4.346417488775679,
           3.8953356412482822,
           8.999321358307931,
           5.265627280610455,
           4.46884406180249,
           4.651497421183538,
           5.802192521331897,
           5.674992344671611,
           6.416887829060949,
           8.545848753799557,
           7.597175862542428,
           28.14327750286522,
           7.988261167242361,
           7.995309292103138,
           16.016594957463216,
           11.997148769195608,
           4.173070853258721,
           7.392518494437149,
           4.2668872156327415,
           6.983518638280213,
           7.78972053711822,
           3.9570161493329823,
           7.131101644447736,
           7.739462507206408,
           4.41332320594846,
           16.944599366727157,
           3.0905838914967028,
           6.276094190811437,
           4.764544816607805,
           4.450516348093168,
           11.180339887498947,
           16.62861316142968,
           4.346417488775679,
           17.616339951881045,
           7.6050983056663455,
           8.889122639020202,
           10.211360153236424,
           5.333026751341176,
           1.711769859409705,
           5.648739014297123,
           9.382410821606808,
           3.8700129448363705,
           2.3800262745964407,
           6.602647743671778,
           22.904350447915718,
           6.580552785006879,
           10.447603532282743,
           32.87611223992787,
           4.864188351857917,
           3.651895814776621,
           10.43879424093482,
           4.795720712826159,
           2.657614620905154,
           1.515716566510398,
           5.150787118329865,
           11.798495725945095,
           8.307104350302165,
           11.694239594086923,
           7.693569963669913,
           16.05683922813596,
           2.5277074255111027,
           6.259527192779829,
           2.3800262745964407,
           13.66533578003426,
           7.696136340726078,
           5.716417499456365,
           7.445613914816561,
           1.711769859409705,
           5.04343936938931,
           5.278031643091577,
           7.367054439036918,
           6.5620071855158555,
           4.375383957829938,
           6.664330989864908,
           2.5616415021458128,
           6.065663627585138,
           9.655763808616614,
           4.987704991388352,
           2.594557933960465,
           3.723291133272139,
           11.387277085787222,
           13.963416215294092,
           4.748776734338052,
           1,
           1.711769859409705,
           8.852288723924483,
           6.2966604962743995,
           8.206962711750021,
           3.0242521453322184,
           10.338149949239854,
           14.389558806967738,
           5.433438209288922,
           6.192213855046329,
           9.823105567542946,
           4.803441235246975,
           3.6664357397762077,
           1.711769859409705,
           4.780192067983897,
           8.51761108917362
          ],
          "sizemode": "area",
          "sizeref": 0.08476660202909103
         },
         "name": "",
         "showlegend": false,
         "type": "scattergeo"
        }
       ],
       "layout": {
        "coloraxis": {
         "showscale": false
        },
        "geo": {
         "center": {},
         "countrycolor": "lightGrey",
         "domain": {
          "x": [
           0,
           1
          ],
          "y": [
           0,
           1
          ]
         },
         "lakecolor": "DimGrey",
         "landcolor": "DarkGrey",
         "oceancolor": "DimGrey",
         "resolution": 50,
         "showcountries": true,
         "showlakes": true,
         "showland": true,
         "showocean": true
        },
        "height": 600,
        "legend": {
         "itemsizing": "constant",
         "tracegroupgap": 0
        },
        "margin": {
         "b": 0,
         "l": 0,
         "r": 0,
         "t": 100
        },
        "template": {
         "data": {
          "bar": [
           {
            "error_x": {
             "color": "#2a3f5f"
            },
            "error_y": {
             "color": "#2a3f5f"
            },
            "marker": {
             "line": {
              "color": "#E5ECF6",
              "width": 0.5
             }
            },
            "type": "bar"
           }
          ],
          "barpolar": [
           {
            "marker": {
             "line": {
              "color": "#E5ECF6",
              "width": 0.5
             }
            },
            "type": "barpolar"
           }
          ],
          "carpet": [
           {
            "aaxis": {
             "endlinecolor": "#2a3f5f",
             "gridcolor": "white",
             "linecolor": "white",
             "minorgridcolor": "white",
             "startlinecolor": "#2a3f5f"
            },
            "baxis": {
             "endlinecolor": "#2a3f5f",
             "gridcolor": "white",
             "linecolor": "white",
             "minorgridcolor": "white",
             "startlinecolor": "#2a3f5f"
            },
            "type": "carpet"
           }
          ],
          "choropleth": [
           {
            "colorbar": {
             "outlinewidth": 0,
             "ticks": ""
            },
            "type": "choropleth"
           }
          ],
          "contour": [
           {
            "colorbar": {
             "outlinewidth": 0,
             "ticks": ""
            },
            "colorscale": [
             [
              0,
              "#0d0887"
             ],
             [
              0.1111111111111111,
              "#46039f"
             ],
             [
              0.2222222222222222,
              "#7201a8"
             ],
             [
              0.3333333333333333,
              "#9c179e"
             ],
             [
              0.4444444444444444,
              "#bd3786"
             ],
             [
              0.5555555555555556,
              "#d8576b"
             ],
             [
              0.6666666666666666,
              "#ed7953"
             ],
             [
              0.7777777777777778,
              "#fb9f3a"
             ],
             [
              0.8888888888888888,
              "#fdca26"
             ],
             [
              1,
              "#f0f921"
             ]
            ],
            "type": "contour"
           }
          ],
          "contourcarpet": [
           {
            "colorbar": {
             "outlinewidth": 0,
             "ticks": ""
            },
            "type": "contourcarpet"
           }
          ],
          "heatmap": [
           {
            "colorbar": {
             "outlinewidth": 0,
             "ticks": ""
            },
            "colorscale": [
             [
              0,
              "#0d0887"
             ],
             [
              0.1111111111111111,
              "#46039f"
             ],
             [
              0.2222222222222222,
              "#7201a8"
             ],
             [
              0.3333333333333333,
              "#9c179e"
             ],
             [
              0.4444444444444444,
              "#bd3786"
             ],
             [
              0.5555555555555556,
              "#d8576b"
             ],
             [
              0.6666666666666666,
              "#ed7953"
             ],
             [
              0.7777777777777778,
              "#fb9f3a"
             ],
             [
              0.8888888888888888,
              "#fdca26"
             ],
             [
              1,
              "#f0f921"
             ]
            ],
            "type": "heatmap"
           }
          ],
          "heatmapgl": [
           {
            "colorbar": {
             "outlinewidth": 0,
             "ticks": ""
            },
            "colorscale": [
             [
              0,
              "#0d0887"
             ],
             [
              0.1111111111111111,
              "#46039f"
             ],
             [
              0.2222222222222222,
              "#7201a8"
             ],
             [
              0.3333333333333333,
              "#9c179e"
             ],
             [
              0.4444444444444444,
              "#bd3786"
             ],
             [
              0.5555555555555556,
              "#d8576b"
             ],
             [
              0.6666666666666666,
              "#ed7953"
             ],
             [
              0.7777777777777778,
              "#fb9f3a"
             ],
             [
              0.8888888888888888,
              "#fdca26"
             ],
             [
              1,
              "#f0f921"
             ]
            ],
            "type": "heatmapgl"
           }
          ],
          "histogram": [
           {
            "marker": {
             "colorbar": {
              "outlinewidth": 0,
              "ticks": ""
             }
            },
            "type": "histogram"
           }
          ],
          "histogram2d": [
           {
            "colorbar": {
             "outlinewidth": 0,
             "ticks": ""
            },
            "colorscale": [
             [
              0,
              "#0d0887"
             ],
             [
              0.1111111111111111,
              "#46039f"
             ],
             [
              0.2222222222222222,
              "#7201a8"
             ],
             [
              0.3333333333333333,
              "#9c179e"
             ],
             [
              0.4444444444444444,
              "#bd3786"
             ],
             [
              0.5555555555555556,
              "#d8576b"
             ],
             [
              0.6666666666666666,
              "#ed7953"
             ],
             [
              0.7777777777777778,
              "#fb9f3a"
             ],
             [
              0.8888888888888888,
              "#fdca26"
             ],
             [
              1,
              "#f0f921"
             ]
            ],
            "type": "histogram2d"
           }
          ],
          "histogram2dcontour": [
           {
            "colorbar": {
             "outlinewidth": 0,
             "ticks": ""
            },
            "colorscale": [
             [
              0,
              "#0d0887"
             ],
             [
              0.1111111111111111,
              "#46039f"
             ],
             [
              0.2222222222222222,
              "#7201a8"
             ],
             [
              0.3333333333333333,
              "#9c179e"
             ],
             [
              0.4444444444444444,
              "#bd3786"
             ],
             [
              0.5555555555555556,
              "#d8576b"
             ],
             [
              0.6666666666666666,
              "#ed7953"
             ],
             [
              0.7777777777777778,
              "#fb9f3a"
             ],
             [
              0.8888888888888888,
              "#fdca26"
             ],
             [
              1,
              "#f0f921"
             ]
            ],
            "type": "histogram2dcontour"
           }
          ],
          "mesh3d": [
           {
            "colorbar": {
             "outlinewidth": 0,
             "ticks": ""
            },
            "type": "mesh3d"
           }
          ],
          "parcoords": [
           {
            "line": {
             "colorbar": {
              "outlinewidth": 0,
              "ticks": ""
             }
            },
            "type": "parcoords"
           }
          ],
          "pie": [
           {
            "automargin": true,
            "type": "pie"
           }
          ],
          "scatter": [
           {
            "marker": {
             "colorbar": {
              "outlinewidth": 0,
              "ticks": ""
             }
            },
            "type": "scatter"
           }
          ],
          "scatter3d": [
           {
            "line": {
             "colorbar": {
              "outlinewidth": 0,
              "ticks": ""
             }
            },
            "marker": {
             "colorbar": {
              "outlinewidth": 0,
              "ticks": ""
             }
            },
            "type": "scatter3d"
           }
          ],
          "scattercarpet": [
           {
            "marker": {
             "colorbar": {
              "outlinewidth": 0,
              "ticks": ""
             }
            },
            "type": "scattercarpet"
           }
          ],
          "scattergeo": [
           {
            "marker": {
             "colorbar": {
              "outlinewidth": 0,
              "ticks": ""
             }
            },
            "type": "scattergeo"
           }
          ],
          "scattergl": [
           {
            "marker": {
             "colorbar": {
              "outlinewidth": 0,
              "ticks": ""
             }
            },
            "type": "scattergl"
           }
          ],
          "scattermapbox": [
           {
            "marker": {
             "colorbar": {
              "outlinewidth": 0,
              "ticks": ""
             }
            },
            "type": "scattermapbox"
           }
          ],
          "scatterpolar": [
           {
            "marker": {
             "colorbar": {
              "outlinewidth": 0,
              "ticks": ""
             }
            },
            "type": "scatterpolar"
           }
          ],
          "scatterpolargl": [
           {
            "marker": {
             "colorbar": {
              "outlinewidth": 0,
              "ticks": ""
             }
            },
            "type": "scatterpolargl"
           }
          ],
          "scatterternary": [
           {
            "marker": {
             "colorbar": {
              "outlinewidth": 0,
              "ticks": ""
             }
            },
            "type": "scatterternary"
           }
          ],
          "surface": [
           {
            "colorbar": {
             "outlinewidth": 0,
             "ticks": ""
            },
            "colorscale": [
             [
              0,
              "#0d0887"
             ],
             [
              0.1111111111111111,
              "#46039f"
             ],
             [
              0.2222222222222222,
              "#7201a8"
             ],
             [
              0.3333333333333333,
              "#9c179e"
             ],
             [
              0.4444444444444444,
              "#bd3786"
             ],
             [
              0.5555555555555556,
              "#d8576b"
             ],
             [
              0.6666666666666666,
              "#ed7953"
             ],
             [
              0.7777777777777778,
              "#fb9f3a"
             ],
             [
              0.8888888888888888,
              "#fdca26"
             ],
             [
              1,
              "#f0f921"
             ]
            ],
            "type": "surface"
           }
          ],
          "table": [
           {
            "cells": {
             "fill": {
              "color": "#EBF0F8"
             },
             "line": {
              "color": "white"
             }
            },
            "header": {
             "fill": {
              "color": "#C8D4E3"
             },
             "line": {
              "color": "white"
             }
            },
            "type": "table"
           }
          ]
         },
         "layout": {
          "annotationdefaults": {
           "arrowcolor": "#2a3f5f",
           "arrowhead": 0,
           "arrowwidth": 1
          },
          "coloraxis": {
           "colorbar": {
            "outlinewidth": 0,
            "ticks": ""
           }
          },
          "colorscale": {
           "diverging": [
            [
             0,
             "#8e0152"
            ],
            [
             0.1,
             "#c51b7d"
            ],
            [
             0.2,
             "#de77ae"
            ],
            [
             0.3,
             "#f1b6da"
            ],
            [
             0.4,
             "#fde0ef"
            ],
            [
             0.5,
             "#f7f7f7"
            ],
            [
             0.6,
             "#e6f5d0"
            ],
            [
             0.7,
             "#b8e186"
            ],
            [
             0.8,
             "#7fbc41"
            ],
            [
             0.9,
             "#4d9221"
            ],
            [
             1,
             "#276419"
            ]
           ],
           "sequential": [
            [
             0,
             "#0d0887"
            ],
            [
             0.1111111111111111,
             "#46039f"
            ],
            [
             0.2222222222222222,
             "#7201a8"
            ],
            [
             0.3333333333333333,
             "#9c179e"
            ],
            [
             0.4444444444444444,
             "#bd3786"
            ],
            [
             0.5555555555555556,
             "#d8576b"
            ],
            [
             0.6666666666666666,
             "#ed7953"
            ],
            [
             0.7777777777777778,
             "#fb9f3a"
            ],
            [
             0.8888888888888888,
             "#fdca26"
            ],
            [
             1,
             "#f0f921"
            ]
           ],
           "sequentialminus": [
            [
             0,
             "#0d0887"
            ],
            [
             0.1111111111111111,
             "#46039f"
            ],
            [
             0.2222222222222222,
             "#7201a8"
            ],
            [
             0.3333333333333333,
             "#9c179e"
            ],
            [
             0.4444444444444444,
             "#bd3786"
            ],
            [
             0.5555555555555556,
             "#d8576b"
            ],
            [
             0.6666666666666666,
             "#ed7953"
            ],
            [
             0.7777777777777778,
             "#fb9f3a"
            ],
            [
             0.8888888888888888,
             "#fdca26"
            ],
            [
             1,
             "#f0f921"
            ]
           ]
          },
          "colorway": [
           "#636efa",
           "#EF553B",
           "#00cc96",
           "#ab63fa",
           "#FFA15A",
           "#19d3f3",
           "#FF6692",
           "#B6E880",
           "#FF97FF",
           "#FECB52"
          ],
          "font": {
           "color": "#2a3f5f"
          },
          "geo": {
           "bgcolor": "white",
           "lakecolor": "white",
           "landcolor": "#E5ECF6",
           "showlakes": true,
           "showland": true,
           "subunitcolor": "white"
          },
          "hoverlabel": {
           "align": "left"
          },
          "hovermode": "closest",
          "mapbox": {
           "style": "light"
          },
          "paper_bgcolor": "white",
          "plot_bgcolor": "#E5ECF6",
          "polar": {
           "angularaxis": {
            "gridcolor": "white",
            "linecolor": "white",
            "ticks": ""
           },
           "bgcolor": "#E5ECF6",
           "radialaxis": {
            "gridcolor": "white",
            "linecolor": "white",
            "ticks": ""
           }
          },
          "scene": {
           "xaxis": {
            "backgroundcolor": "#E5ECF6",
            "gridcolor": "white",
            "gridwidth": 2,
            "linecolor": "white",
            "showbackground": true,
            "ticks": "",
            "zerolinecolor": "white"
           },
           "yaxis": {
            "backgroundcolor": "#E5ECF6",
            "gridcolor": "white",
            "gridwidth": 2,
            "linecolor": "white",
            "showbackground": true,
            "ticks": "",
            "zerolinecolor": "white"
           },
           "zaxis": {
            "backgroundcolor": "#E5ECF6",
            "gridcolor": "white",
            "gridwidth": 2,
            "linecolor": "white",
            "showbackground": true,
            "ticks": "",
            "zerolinecolor": "white"
           }
          },
          "shapedefaults": {
           "line": {
            "color": "#2a3f5f"
           }
          },
          "ternary": {
           "aaxis": {
            "gridcolor": "white",
            "linecolor": "white",
            "ticks": ""
           },
           "baxis": {
            "gridcolor": "white",
            "linecolor": "white",
            "ticks": ""
           },
           "bgcolor": "#E5ECF6",
           "caxis": {
            "gridcolor": "white",
            "linecolor": "white",
            "ticks": ""
           }
          },
          "title": {
           "x": 0.05
          },
          "xaxis": {
           "automargin": true,
           "gridcolor": "white",
           "linecolor": "white",
           "ticks": "",
           "title": {
            "standoff": 15
           },
           "zerolinecolor": "white",
           "zerolinewidth": 2
          },
          "yaxis": {
           "automargin": true,
           "gridcolor": "white",
           "linecolor": "white",
           "ticks": "",
           "title": {
            "standoff": 15
           },
           "zerolinecolor": "white",
           "zerolinewidth": 2
          }
         }
        },
        "title": {
         "text": "Cases by geography"
        }
       }
      },
      "text/html": [
       "<div>\n",
       "        \n",
       "        \n",
       "            <div id=\"5690c0bf-4f2f-4359-810e-12adb1eecdb9\" class=\"plotly-graph-div\" style=\"height:600px; width:100%;\"></div>\n",
       "            <script type=\"text/javascript\">\n",
       "                require([\"plotly\"], function(Plotly) {\n",
       "                    window.PLOTLYENV=window.PLOTLYENV || {};\n",
       "                    \n",
       "                if (document.getElementById(\"5690c0bf-4f2f-4359-810e-12adb1eecdb9\")) {\n",
       "                    Plotly.newPlot(\n",
       "                        '5690c0bf-4f2f-4359-810e-12adb1eecdb9',\n",
       "                        [{\"customdata\": [[299.0], [333.0], [1251.0], [466.0], [10.0], [15.0], [1451.0], [770.0], [11781.0], [521.0], [28.0], [688.0], [70.0], [52.0], [440.0], [18431.0], [4.0], [16.0], [5.0], [139.0], [624.0], [4.0], [10360.0], [135.0], [503.0], [318.0], [21.0], [3.0], [7.0], [114.0], [555.0], [8.0], [9.0], [4161.0], [1406.0], [22.0], [154.0], [435.0], [245.0], [1126.0], [288.0], [426.0], [4472.0], [4077.0], [712.0], [50.0], [14.0], [1488.0], [3465.0], [1070.0], [56.0], [16.0], [29.0], [1039.0], [9.0], [38.0], [12.0], [1882.0], [89953.0], [21.0], [4.0], [162.0], [96092.0], [205.0], [1673.0], [12.0], [61.0], [111.0], [18.0], [23.0], [20.0], [7.0], [264.0], [678.0], [1417.0], [3082.0], [2092.0], [55743.0], [878.0], [4604.0], [7851.0], [124632.0], [53.0], [3139.0], [323.0], [531.0], [126.0], [10156.0], [135.0], [479.0], [144.0], [10.0], [509.0], [520.0], [10.0], [18.0], [77.0], [771.0], [2729.0], [9.0], [70.0], [3483.0], [19.0], [41.0], [213.0], [6.0], [196.0], [1688.0], [752.0], [66.0], [14.0], [201.0], [919.0], [10.0], [14.0], [9.0], [16627.0], [950.0], [5.0], [144.0], [214.0], [483.0], [5550.0], [277.0], [2818.0], [1673.0], [1.0], [96.0], [1746.0], [3094.0], [3627.0], [10524.0], [1325.0], [3613.0], [4731.0], [102.0], [9.0], [14.0], [7.0], [259.0], [2179.0], [219.0], [1624.0], [10.0], [4.0], [1189.0], [471.0], [977.0], [7.0], [1585.0], [126168.0], [166.0], [10.0], [10.0], [6443.0], [20505.0], [16.0], [355.0], [20.0], [2067.0], [1.0], [41.0], [103.0], [553.0], [23934.0], [48.0], [1225.0], [1505.0], [41903.0], [400.0], [266.0], [155.0], [240.0], [217.0], [39.0], [9.0], [1614.0], [171.0], [1075.0], [3.0], [990.0], [2187.0], [743.0], [64.0], [93.0], [585.0], [35.0], [1203.0], [3.0], [12837.0], [35.0], [262.0], [579.0], [4188.0], [5276.0], [11.0], [593.0], [902.0], [181.0], [11545.0], [61.0], [40.0], [350.0], [138.0], [6160.0], [98.0], [11.0], [134.0], [93.0], [1516.0], [254.0], [147.0], [168.0], [351.0], [326.0], [491.0], [1276.0], [862.0], [67803.0], [1019.0], [1022.0], [10357.0], [3953.0], [117.0], [787.0], [126.0], [651.0], [937.0], [98.0], [698.0], [917.0], [141.0], [12496.0], [43.0], [456.0], [182.0], [145.0], [3125.0], [11736.0], [134.0], [14225.0], [865.0], [1455.0], [2310.0], [265.0], [6.0], [321.0], [1742.0], [91.0], [18.0], [540.0], [34124.0], [534.0], [2493.0], [113833.0], [195.0], [75.0], [2486.0], [186.0], [26.0], [4.0], [236.0], [3739.0], [1161.0], [3630.0], [899.0], [10444.0], [22.0], [452.0], [18.0], [6101.0], [900.0], [334.0], [806.0], [6.0], [220.0], [256.0], [778.0], [529.0], [137.0], [557.0], [23.0], [407.0], [1917.0], [212.0], [24.0], [80.0], [3322.0], [6556.0], [180.0], [1.0], [6.0], [1435.0], [461.0], [1115.0], [40.0], [2407.0], [7247.0], [282.0], [436.0], [2030.0], [187.0], [76.0], [6.0], [184.0], [1262.0]], \"geo\": \"geo\", \"hoverlabel\": {\"namelength\": 0}, \"hovertemplate\": \"<b>%{hovertext}</b><br><br>Size=%{marker.size}<br>ConfirmedCases=%{customdata[0]}<br>Lat=%{lat}<br>Long=%{lon}\", \"hovertext\": [\"0.0 / Afghanistan\", \"0.0 / Albania\", \"0.0 / Algeria\", \"0.0 / Andorra\", \"0.0 / Angola\", \"0.0 / Antigua and Barbuda\", \"0.0 / Argentina\", \"0.0 / Armenia\", \"0.0 / Austria\", \"0.0 / Azerbaijan\", \"0.0 / Bahamas\", \"0.0 / Bahrain\", \"0.0 / Bangladesh\", \"0.0 / Barbados\", \"0.0 / Belarus\", \"0.0 / Belgium\", \"0.0 / Belize\", \"0.0 / Benin\", \"0.0 / Bhutan\", \"0.0 / Bolivia\", \"0.0 / Bosnia and Herzegovina\", \"0.0 / Botswana\", \"0.0 / Brazil\", \"0.0 / Brunei\", \"0.0 / Bulgaria\", \"0.0 / Burkina Faso\", \"0.0 / Burma\", \"0.0 / Burundi\", \"0.0 / Cabo Verde\", \"0.0 / Cambodia\", \"0.0 / Cameroon\", \"0.0 / Central African Republic\", \"0.0 / Chad\", \"0.0 / Chile\", \"0.0 / Colombia\", \"0.0 / Congo (Brazzaville)\", \"0.0 / Congo (Kinshasa)\", \"0.0 / Costa Rica\", \"0.0 / Cote d'Ivoire\", \"0.0 / Croatia\", \"0.0 / Cuba\", \"0.0 / Cyprus\", \"0.0 / Czechia\", \"0.0 / Denmark\", \"0.0 / Diamond Princess\", \"0.0 / Djibouti\", \"0.0 / Dominica\", \"0.0 / Dominican Republic\", \"0.0 / Ecuador\", \"0.0 / Egypt\", \"0.0 / El Salvador\", \"0.0 / Equatorial Guinea\", \"0.0 / Eritrea\", \"0.0 / Estonia\", \"0.0 / Eswatini\", \"0.0 / Ethiopia\", \"0.0 / Fiji\", \"0.0 / Finland\", \"0.0 / France\", \"0.0 / Gabon\", \"0.0 / Gambia\", \"0.0 / Georgia\", \"0.0 / Germany\", \"0.0 / Ghana\", \"0.0 / Greece\", \"0.0 / Grenada\", \"0.0 / Guatemala\", \"0.0 / Guinea\", \"0.0 / Guinea-Bissau\", \"0.0 / Guyana\", \"0.0 / Haiti\", \"0.0 / Holy See\", \"0.0 / Honduras\", \"0.0 / Hungary\", \"0.0 / Iceland\", \"0.0 / India\", \"0.0 / Indonesia\", \"0.0 / Iran\", \"0.0 / Iraq\", \"0.0 / Ireland\", \"0.0 / Israel\", \"0.0 / Italy\", \"0.0 / Jamaica\", \"0.0 / Japan\", \"0.0 / Jordan\", \"0.0 / Kazakhstan\", \"0.0 / Kenya\", \"0.0 / Korea, South\", \"0.0 / Kosovo\", \"0.0 / Kuwait\", \"0.0 / Kyrgyzstan\", \"0.0 / Laos\", \"0.0 / Latvia\", \"0.0 / Lebanon\", \"0.0 / Liberia\", \"0.0 / Libya\", \"0.0 / Liechtenstein\", \"0.0 / Lithuania\", \"0.0 / Luxembourg\", \"0.0 / MS Zaandam\", \"0.0 / Madagascar\", \"0.0 / Malaysia\", \"0.0 / Maldives\", \"0.0 / Mali\", \"0.0 / Malta\", \"0.0 / Mauritania\", \"0.0 / Mauritius\", \"0.0 / Mexico\", \"0.0 / Moldova\", \"0.0 / Monaco\", \"0.0 / Mongolia\", \"0.0 / Montenegro\", \"0.0 / Morocco\", \"0.0 / Mozambique\", \"0.0 / Namibia\", \"0.0 / Nepal\", \"0.0 / Netherlands\", \"0.0 / New Zealand\", \"0.0 / Nicaragua\", \"0.0 / Niger\", \"0.0 / Nigeria\", \"0.0 / North Macedonia\", \"0.0 / Norway\", \"0.0 / Oman\", \"0.0 / Pakistan\", \"0.0 / Panama\", \"0.0 / Papua New Guinea\", \"0.0 / Paraguay\", \"0.0 / Peru\", \"0.0 / Philippines\", \"0.0 / Poland\", \"0.0 / Portugal\", \"0.0 / Qatar\", \"0.0 / Romania\", \"0.0 / Russia\", \"0.0 / Rwanda\", \"0.0 / Saint Kitts and Nevis\", \"0.0 / Saint Lucia\", \"0.0 / Saint Vincent and the Grenadines\", \"0.0 / San Marino\", \"0.0 / Saudi Arabia\", \"0.0 / Senegal\", \"0.0 / Serbia\", \"0.0 / Seychelles\", \"0.0 / Sierra Leone\", \"0.0 / Singapore\", \"0.0 / Slovakia\", \"0.0 / Slovenia\", \"0.0 / Somalia\", \"0.0 / South Africa\", \"0.0 / Spain\", \"0.0 / Sri Lanka\", \"0.0 / Sudan\", \"0.0 / Suriname\", \"0.0 / Sweden\", \"0.0 / Switzerland\", \"0.0 / Syria\", \"0.0 / Taiwan*\", \"0.0 / Tanzania\", \"0.0 / Thailand\", \"0.0 / Timor-Leste\", \"0.0 / Togo\", \"0.0 / Trinidad and Tobago\", \"0.0 / Tunisia\", \"0.0 / Turkey\", \"0.0 / Uganda\", \"0.0 / Ukraine\", \"0.0 / United Arab Emirates\", \"0.0 / United Kingdom\", \"0.0 / Uruguay\", \"0.0 / Uzbekistan\", \"0.0 / Venezuela\", \"0.0 / Vietnam\", \"0.0 / West Bank and Gaza\", \"0.0 / Zambia\", \"0.0 / Zimbabwe\", \"Alabama / US\", \"Alaska / US\", \"Alberta / Canada\", \"Anguilla / United Kingdom\", \"Anhui / China\", \"Arizona / US\", \"Arkansas / US\", \"Aruba / Netherlands\", \"Australian Capital Territory / Australia\", \"Beijing / China\", \"Bermuda / United Kingdom\", \"British Columbia / Canada\", \"British Virgin Islands / United Kingdom\", \"California / US\", \"Cayman Islands / United Kingdom\", \"Channel Islands / United Kingdom\", \"Chongqing / China\", \"Colorado / US\", \"Connecticut / US\", \"Curacao / Netherlands\", \"Delaware / US\", \"District of Columbia / US\", \"Faroe Islands / Denmark\", \"Florida / US\", \"French Guiana / France\", \"French Polynesia / France\", \"Fujian / China\", \"Gansu / China\", \"Georgia / US\", \"Gibraltar / United Kingdom\", \"Greenland / Denmark\", \"Guadeloupe / France\", \"Guam / US\", \"Guangdong / China\", \"Guangxi / China\", \"Guizhou / China\", \"Hainan / China\", \"Hawaii / US\", \"Hebei / China\", \"Heilongjiang / China\", \"Henan / China\", \"Hong Kong / China\", \"Hubei / China\", \"Hunan / China\", \"Idaho / US\", \"Illinois / US\", \"Indiana / US\", \"Inner Mongolia / China\", \"Iowa / US\", \"Isle of Man / United Kingdom\", \"Jiangsu / China\", \"Jiangxi / China\", \"Jilin / China\", \"Kansas / US\", \"Kentucky / US\", \"Liaoning / China\", \"Louisiana / US\", \"Macau / China\", \"Maine / US\", \"Manitoba / Canada\", \"Martinique / France\", \"Maryland / US\", \"Massachusetts / US\", \"Mayotte / France\", \"Michigan / US\", \"Minnesota / US\", \"Mississippi / US\", \"Missouri / US\", \"Montana / US\", \"Montserrat / United Kingdom\", \"Nebraska / US\", \"Nevada / US\", \"New Brunswick / Canada\", \"New Caledonia / France\", \"New Hampshire / US\", \"New Jersey / US\", \"New Mexico / US\", \"New South Wales / Australia\", \"New York / US\", \"Newfoundland and Labrador / Canada\", \"Ningxia / China\", \"North Carolina / US\", \"North Dakota / US\", \"Northern Territory / Australia\", \"Northwest Territories / Canada\", \"Nova Scotia / Canada\", \"Ohio / US\", \"Oklahoma / US\", \"Ontario / Canada\", \"Oregon / US\", \"Pennsylvania / US\", \"Prince Edward Island / Canada\", \"Puerto Rico / US\", \"Qinghai / China\", \"Quebec / Canada\", \"Queensland / Australia\", \"Reunion / France\", \"Rhode Island / US\", \"Saint Barthelemy / France\", \"Saskatchewan / Canada\", \"Shaanxi / China\", \"Shandong / China\", \"Shanghai / China\", \"Shanxi / China\", \"Sichuan / China\", \"Sint Maarten / Netherlands\", \"South Australia / Australia\", \"South Carolina / US\", \"South Dakota / US\", \"St Martin / France\", \"Tasmania / Australia\", \"Tennessee / US\", \"Texas / US\", \"Tianjin / China\", \"Tibet / China\", \"Turks and Caicos Islands / United Kingdom\", \"Utah / US\", \"Vermont / US\", \"Victoria / Australia\", \"Virgin Islands / US\", \"Virginia / US\", \"Washington / US\", \"West Virginia / US\", \"Western Australia / Australia\", \"Wisconsin / US\", \"Wyoming / US\", \"Xinjiang / China\", \"Yukon / Canada\", \"Yunnan / China\", \"Zhejiang / China\"], \"lat\": [33.0, 41.1533, 28.0339, 42.5063, -11.2027, 17.0608, -38.4161, 40.0691, 47.5162, 40.1431, 25.0343, 26.0275, 23.685, 13.1939, 53.7098, 50.8333, 13.1939, 9.3077, 27.5142, -16.2902, 43.9159, -22.3285, -14.235, 4.5353, 42.7339, 12.2383, 21.9162, -3.3731, 16.5388, 11.55, 3.848, 6.6111, 15.4542, -35.6751, 4.5709, -4.0383, -4.0383, 9.7489, 7.54, 45.1, 22.0, 35.1264, 49.8175, 56.2639, null, 11.8251, 15.415, 18.7357, -1.8312, 26.0, 13.7942, 1.5, 15.1794, 58.5953, -26.5225, 9.145, -17.7134, 64.0, 46.2276, -0.8037, 13.4432, 42.3154, 51.0, 7.9465, 39.0742, 12.1165, 15.7835, 9.9456, 11.8037, 5.0, 18.9712, 41.9029, 15.2, 47.1625, 64.9631, 21.0, -0.7893, 32.0, 33.0, 53.1424, 31.0, 43.0, 18.1096, 36.0, 31.24, 48.0196, -0.0236, 36.0, 42.602636, 29.5, 41.2044, 19.85627, 56.8796, 33.8547, 6.4281, 26.3351, 47.14, 55.1694, 49.8153, null, -18.7669, 2.5, 3.2028, 17.570692, 35.9375, 21.0079, -20.2, 23.6345, 47.4116, 43.7333, 46.8625, 42.5, 31.7917, -18.665695, -22.9576, 28.1667, 52.1326, -40.9006, 12.8654, 17.6078, 9.082, 41.6086, 60.472, 21.0, 30.3753, 8.538, -6.315, -23.4425, -9.19, 13.0, 51.9194, 39.3999, 25.3548, 45.9432, 60.0, -1.9403, 17.357822, 13.9094, 12.9843, 43.9424, 24.0, 14.4974, 44.0165, -4.6796, 8.460555000000001, 1.2833, 48.669, 46.1512, 5.1521, -30.5595, 40.0, 7.0, 12.8628, 3.9193, 63.0, 46.8182, 34.802075, 23.7, -6.369, 15.0, -8.874217, 8.6195, 10.6918, 34.0, 38.9637, 1.0, 48.3794, 24.0, 55.3781, -32.5228, 41.3775, 6.4238, 16.0, 31.9522, -15.4167, -20.0, 32.53952745, 55.32222414, 53.9333, 18.2206, 31.8257, 35.39465006, 34.29145151, 12.5186, -35.4735, 40.1824, 32.3078, 49.2827, 18.4207, 37.64629437, 19.3133, 49.3723, 30.0572, 39.87432092, 41.26809896, 12.1696, 39.08646628, 38.90417773, 61.8926, 29.67866525, 3.9339, -17.6797, 26.0789, 37.8099, 31.74847232, 36.1408, 71.7069, 16.25, 13.4443, 23.3417, 23.8298, 26.8154, 19.1959, 19.60121157, 39.549, 47.862, 33.882, 22.3, 30.9756, 27.6104, 43.4526575, 39.98815591, 40.7457653, 44.0935, 41.33075609, 54.2361, 32.9711, 27.614, 43.6661, 37.88582951, 37.10459774, 41.2956, 30.295064899999996, 22.1667, 44.1664747, 53.7609, 14.6415, 39.62357628, 41.72980578, -12.8275, 44.6846864, 46.60962049, 31.47669768, 40.19058551, 45.13434354, 16.7425, 40.52449420000001, 39.58105744, 46.5653, -20.9043, 43.51637314, 39.47538693, 35.05163625, -33.8688, 42.60060306, 53.1355, 37.2692, 36.0434701, 46.09686891, -12.4634, 64.8255, 44.682, 38.84541072, 35.88494195, 51.2538, 44.70915557, 39.87140411, 46.5107, 18.2208, 35.7452, 52.9399, -28.0167, -21.1351, 41.71018079, 17.9, 52.9399, 35.1917, 36.3427, 31.202, 37.5777, 30.6171, 18.0425, -34.9285, 34.22333378, 43.71757685, 18.0708, -41.4545, 36.12684348, 31.81534745, 39.3054, 31.6927, 21.69400000000001, 38.35657051, 44.03217337, -37.8136, 18.3358, 37.76707161, 46.98299757, 39.1307219, -31.9505, 43.96974651, 41.65498705, 41.1129, 64.2823, 24.974, 29.1832], \"legendgroup\": \"\", \"lon\": [65.0, 20.1683, 1.6596, 1.5218, 17.8739, -61.7964, -63.6167, 45.0382, 14.5501, 47.5769, -77.3963, 50.55, 90.3563, -59.5432, 27.9534, 4.0, -59.5432, 2.3158, 90.4336, -63.5887, 17.6791, 24.6849, -51.9253, 114.7277, 25.4858, -1.5616, 95.956, 29.9189, -23.0418, 104.9167, 11.5021, 20.9394, 18.7322, -71.543, -74.2973, 21.7587, 21.7587, -83.7534, -5.5471, 15.2, -80.0, 33.4299, 15.473, 9.5018, null, 42.5903, -61.371, -70.1627, -78.1834, 30.0, -88.8965, 10.0, 39.7823, 25.0136, 31.4659, 40.4897, 178.065, 26.0, 2.2137, 11.6094, -15.3101, 43.3569, 9.0, -1.0232, 21.8243, -61.679, -90.2308, -9.6966, -15.1804, -58.75, -72.2852, 12.4534, -86.2419, 19.5033, -19.0208, 78.0, 113.9213, 53.0, 44.0, -7.6921, 35.0, 12.0, -77.2975, 138.0, 36.51, 66.9237, 37.9062, 128.0, 20.902977, 47.75, 74.7661, 102.495496, 24.6032, 35.8623, -9.4295, 17.228331, 9.55, 23.8813, 6.1296, null, 46.8691, 112.5, 73.2207, -3.996166000000001, 14.3754, 10.9408, 57.5, -102.5528, 28.3699, 7.4167, 103.8467, 19.3, -7.0926, 35.529562, 18.4904, 84.25, 5.2913, 174.886, -85.2072, 8.0817, 8.6753, 21.7453, 8.4689, 57.0, 69.3451, -80.7821, 143.9555, -58.4438, -75.0152, 122.0, 19.1451, -8.2245, 51.1839, 24.9668, 90.0, 29.8739, -62.782998, -60.9789, -61.2872, 12.4578, 45.0, -14.4524, 21.0059, 55.492, -11.779889, 103.8333, 19.699, 14.9955, 46.1996, 22.9375, -4.0, 81.0, 30.2176, -56.0278, 16.0, 8.2275, 38.99681500000001, 121.0, 34.8888, 101.0, 125.727539, 0.8248, -61.2225, 9.0, 35.2433, 32.0, 31.1656, 54.0, -3.4360000000000004, -55.7658, 64.5853, -66.5897, 108.0, 35.2332, 28.2833, 30.0, -86.64408227, -161.9722021, -116.5765, -63.0686, 117.2264, -109.4892383, -91.37277296, -70.0358, 149.0124, 116.4142, -64.7505, -123.1207, -64.64, -121.8929271, -81.2546, -2.3644, 107.874, -104.3362578, -73.3881171, -68.99, -75.56884914, -77.01655992, -6.9118, -82.35928158, -53.1258, 149.4068, 117.9874, 101.0583, -82.28909114, -5.3536, -42.6043, -61.5833, 144.7937, 113.4244, 108.7881, 106.8748, 109.7453, -155.5210167, 116.1306, 127.7615, 113.614, 114.2, 112.2707, 111.7088, -116.24155159999998, -91.18786813, -84.93671406, 113.9448, -94.47105874, -4.5481, 119.455, 115.7221, 126.1923, -95.30030847, -85.28129668, 122.6085, -92.41419698, 113.55, -70.20380627, -98.8139, -61.0242, -78.69280486, -70.28854339, 45.1662, -83.59507875, -93.41168259999999, -91.35326037, -92.60078167, -112.89846940000001, -62.1874, -98.50117804, -118.3394607, -66.4619, 165.618, -71.41684235, -74.65848483, -106.6703554, 151.2093, -73.97723916, -57.6604, 106.1655, -79.39976137, -102.5285397, 130.8456, -124.8457, -63.7443, -83.4718964, -94.65859267, -85.3232, -117.6749883, -77.21610347, -63.4168, -66.5901, 95.9956, -73.5491, 153.4, 55.2471, -71.28652315, -62.8333, -106.4509, 108.8701, 118.1498, 121.4491, 112.2922, 102.7103, -63.0548, 138.6007, -82.46170658, -98.56050467, -63.0501, 145.9707, -84.19965764, -95.65354823, 117.323, 88.0924, -71.7979, -113.2342232, -73.14130877, 144.9631, -64.8963, -75.63234615, -118.56017340000001, -80.00350858, 115.8605, -89.76782777, -105.72354150000001, 85.2401, -135.0, 101.487, 120.0934], \"marker\": {\"color\": \"red\", \"size\": [5.529697276636929, 5.711277603102162, 8.495270128442183, 6.3170712455563445, 1.9952623149688795, 2.2533433808426553, 8.881784338734908, 7.344246036464962, 16.647715552745957, 6.532077322470661, 2.717361446466631, 7.100297264285194, 3.5770862508726156, 3.2719073933511478, 6.209202203667457, 19.03990029163225, 1.515716566510398, 2.2973967099940698, 1.6206565966927624, 4.39444911601279, 6.895335100078801, 1.515716566510398, 16.017986622453577, 4.356122964910856, 6.463539325915487, 5.632849346987297, 2.4926757485402593, 1.3903891703159093, 1.792789962520997, 4.1406779667657485, 6.657143137060032, 1.8660659830736148, 1.9331820449317627, 12.183142241285735, 8.798235778866674, 2.5277074255111027, 4.531648500646097, 6.187949732702651, 5.208945641245127, 8.23116897280053, 5.4678645329573055, 6.149260335167237, 12.449460696851034, 12.108830875668653, 7.173713004945817, 3.233635032886787, 2.2071833466585673, 8.949131286526445, 11.532168295903801, 8.10615928471357, 3.345464363856254, 2.2973967099940698, 2.7461192933624785, 8.034977487088787, 1.9331820449317627, 2.978071215719372, 2.107435899344471, 9.602534711234227, 30.63406966066287, 2.4926757485402593, 1.515716566510398, 4.601024060515672, 31.24684476180277, 4.937716580851732, 9.269339357300531, 2.107435899344471, 3.432408355505487, 4.1076827445401545, 2.3800262745964407, 2.5616415021458128, 2.4564560522315806, 1.792789962520997, 5.326981371561689, 7.069177852574754, 8.81882968030793, 11.13396342490016, 9.912164572568123, 26.53732244457397, 7.639208345346838, 12.558581678187851, 14.739321542233359, 33.78227316234038, 3.2906580963691905, 11.195342762583065, 5.659274461400946, 6.569440088225624, 4.2668872156327415, 15.922703484226249, 4.356122964910856, 6.369431245794232, 4.44128606984584, 1.9952623149688795, 6.486573368802769, 6.528313520021603, 1.9952623149688795, 2.3800262745964407, 3.6808423540939335, 7.347106131347071, 10.734975576633445, 1.9331820449317627, 3.5770862508726156, 11.550107925344308, 2.4189454814875875, 3.046738334899583, 4.994751443057936, 1.711769859409705, 4.871658325766914, 9.29419398531416, 7.292313857121574, 3.5144970301577456, 2.2071833466585673, 4.908613271164895, 7.744522634891201, 1.9952623149688795, 2.2071833466585673, 1.9331820449317627, 18.460530153659153, 7.8219868515814595, 1.6206565966927624, 4.44128606984584, 5.001774775270484, 6.385341648853108, 13.28274682672959, 5.404355766531817, 10.838827302547989, 9.269339357300531, 1.0, 3.932614443274868, 9.388868833238613, 11.146951019436264, 11.691339356778556, 16.09363886956442, 8.64300498490005, 11.677782668404177, 12.661521139399715, 4.004792800537097, 1.9331820449317627, 2.2071833466585673, 1.792789962520997, 5.296511617649519, 10.03407098499466, 5.0365509824526615, 9.18704423484229, 1.9952623149688795, 1.515716566510398, 8.366706923294817, 6.33732926553518, 7.888026648174017, 1.792789962520997, 9.120292773180678, 33.906640811636414, 4.634815240944689, 1.9952623149688795, 1.9952623149688795, 13.89077380533084, 19.658841993828315, 2.2973967099940698, 5.821950463835482, 2.4564560522315806, 9.876478962273579, 1.0, 3.046738334899583, 4.01653140849876, 6.64993712979363, 20.59228716745556, 3.194275505495155, 8.441912115297926, 8.97968185178614, 24.359789722368134, 6.034176336545163, 5.339056183214393, 4.54045639746107, 5.176823669634831, 5.022707877315739, 3.001368927744568, 1.9331820449317627, 9.170036390122258, 4.676261972480622, 8.117504522858486, 1.3903891703159093, 7.919368619897125, 10.045108566305139, 7.266020923322288, 3.4822022531844965, 3.8953356412482822, 6.76311480680004, 2.9054968792442244, 8.396140322126994, 1.3903891703159093, 17.08201356313939, 2.9054968792442244, 5.314842355900356, 6.742230084519481, 12.206804859352617, 13.082520865124975, 2.053136413658844, 6.790729136639923, 7.70126311271501, 4.7566760209420424, 16.54695863299635, 3.432408355505487, 3.0242521453322184, 5.797228429415687, 4.384940713986203, 13.704847699970488, 3.9570161493329823, 2.053136413658844, 4.346417488775679, 3.8953356412482822, 8.999321358307931, 5.265627280610455, 4.46884406180249, 4.651497421183538, 5.802192521331897, 5.674992344671611, 6.416887829060949, 8.545848753799557, 7.597175862542428, 28.14327750286522, 7.988261167242361, 7.995309292103138, 16.016594957463216, 11.997148769195608, 4.173070853258721, 7.392518494437149, 4.2668872156327415, 6.983518638280213, 7.78972053711822, 3.9570161493329823, 7.131101644447736, 7.739462507206408, 4.41332320594846, 16.944599366727157, 3.0905838914967028, 6.276094190811437, 4.764544816607805, 4.450516348093168, 11.180339887498947, 16.62861316142968, 4.346417488775679, 17.616339951881045, 7.6050983056663455, 8.889122639020202, 10.211360153236424, 5.333026751341176, 1.711769859409705, 5.648739014297123, 9.382410821606808, 3.8700129448363705, 2.3800262745964407, 6.602647743671778, 22.904350447915718, 6.580552785006879, 10.447603532282743, 32.87611223992787, 4.864188351857917, 3.651895814776621, 10.43879424093482, 4.795720712826159, 2.657614620905154, 1.515716566510398, 5.150787118329865, 11.798495725945095, 8.307104350302165, 11.694239594086923, 7.693569963669913, 16.05683922813596, 2.5277074255111027, 6.259527192779829, 2.3800262745964407, 13.66533578003426, 7.696136340726078, 5.716417499456365, 7.445613914816561, 1.711769859409705, 5.04343936938931, 5.278031643091577, 7.367054439036918, 6.5620071855158555, 4.375383957829938, 6.664330989864908, 2.5616415021458128, 6.065663627585138, 9.655763808616614, 4.987704991388352, 2.594557933960465, 3.723291133272139, 11.387277085787222, 13.963416215294092, 4.748776734338052, 1.0, 1.711769859409705, 8.852288723924483, 6.2966604962743995, 8.206962711750021, 3.0242521453322184, 10.338149949239854, 14.389558806967738, 5.433438209288922, 6.192213855046329, 9.823105567542946, 4.803441235246975, 3.6664357397762077, 1.711769859409705, 4.780192067983897, 8.51761108917362], \"sizemode\": \"area\", \"sizeref\": 0.08476660202909103}, \"name\": \"\", \"showlegend\": false, \"type\": \"scattergeo\"}],\n",
       "                        {\"coloraxis\": {\"showscale\": false}, \"geo\": {\"center\": {}, \"countrycolor\": \"lightGrey\", \"domain\": {\"x\": [0.0, 1.0], \"y\": [0.0, 1.0]}, \"lakecolor\": \"DimGrey\", \"landcolor\": \"DarkGrey\", \"oceancolor\": \"DimGrey\", \"resolution\": 50, \"showcountries\": true, \"showlakes\": true, \"showland\": true, \"showocean\": true}, \"height\": 600, \"legend\": {\"itemsizing\": \"constant\", \"tracegroupgap\": 0}, \"margin\": {\"b\": 0, \"l\": 0, \"r\": 0, \"t\": 100}, \"template\": {\"data\": {\"bar\": [{\"error_x\": {\"color\": \"#2a3f5f\"}, \"error_y\": {\"color\": \"#2a3f5f\"}, \"marker\": {\"line\": {\"color\": \"#E5ECF6\", \"width\": 0.5}}, \"type\": \"bar\"}], \"barpolar\": [{\"marker\": {\"line\": {\"color\": \"#E5ECF6\", \"width\": 0.5}}, \"type\": \"barpolar\"}], \"carpet\": [{\"aaxis\": {\"endlinecolor\": \"#2a3f5f\", \"gridcolor\": \"white\", \"linecolor\": \"white\", \"minorgridcolor\": \"white\", \"startlinecolor\": \"#2a3f5f\"}, \"baxis\": {\"endlinecolor\": \"#2a3f5f\", \"gridcolor\": \"white\", \"linecolor\": \"white\", \"minorgridcolor\": \"white\", \"startlinecolor\": \"#2a3f5f\"}, \"type\": \"carpet\"}], \"choropleth\": [{\"colorbar\": {\"outlinewidth\": 0, \"ticks\": \"\"}, \"type\": \"choropleth\"}], \"contour\": [{\"colorbar\": {\"outlinewidth\": 0, \"ticks\": \"\"}, \"colorscale\": [[0.0, \"#0d0887\"], [0.1111111111111111, \"#46039f\"], [0.2222222222222222, \"#7201a8\"], [0.3333333333333333, \"#9c179e\"], [0.4444444444444444, \"#bd3786\"], [0.5555555555555556, \"#d8576b\"], [0.6666666666666666, \"#ed7953\"], [0.7777777777777778, \"#fb9f3a\"], [0.8888888888888888, \"#fdca26\"], [1.0, \"#f0f921\"]], \"type\": \"contour\"}], \"contourcarpet\": [{\"colorbar\": {\"outlinewidth\": 0, \"ticks\": \"\"}, \"type\": \"contourcarpet\"}], \"heatmap\": [{\"colorbar\": {\"outlinewidth\": 0, \"ticks\": \"\"}, \"colorscale\": [[0.0, \"#0d0887\"], [0.1111111111111111, \"#46039f\"], [0.2222222222222222, \"#7201a8\"], [0.3333333333333333, \"#9c179e\"], [0.4444444444444444, \"#bd3786\"], [0.5555555555555556, \"#d8576b\"], [0.6666666666666666, \"#ed7953\"], [0.7777777777777778, \"#fb9f3a\"], [0.8888888888888888, \"#fdca26\"], [1.0, \"#f0f921\"]], \"type\": \"heatmap\"}], \"heatmapgl\": [{\"colorbar\": {\"outlinewidth\": 0, \"ticks\": \"\"}, \"colorscale\": [[0.0, \"#0d0887\"], [0.1111111111111111, \"#46039f\"], [0.2222222222222222, \"#7201a8\"], [0.3333333333333333, \"#9c179e\"], [0.4444444444444444, \"#bd3786\"], [0.5555555555555556, \"#d8576b\"], [0.6666666666666666, \"#ed7953\"], [0.7777777777777778, \"#fb9f3a\"], [0.8888888888888888, \"#fdca26\"], [1.0, \"#f0f921\"]], \"type\": \"heatmapgl\"}], \"histogram\": [{\"marker\": {\"colorbar\": {\"outlinewidth\": 0, \"ticks\": \"\"}}, \"type\": \"histogram\"}], \"histogram2d\": [{\"colorbar\": {\"outlinewidth\": 0, \"ticks\": \"\"}, \"colorscale\": [[0.0, \"#0d0887\"], [0.1111111111111111, \"#46039f\"], [0.2222222222222222, \"#7201a8\"], [0.3333333333333333, \"#9c179e\"], [0.4444444444444444, \"#bd3786\"], [0.5555555555555556, \"#d8576b\"], [0.6666666666666666, \"#ed7953\"], [0.7777777777777778, \"#fb9f3a\"], [0.8888888888888888, \"#fdca26\"], [1.0, \"#f0f921\"]], \"type\": \"histogram2d\"}], \"histogram2dcontour\": [{\"colorbar\": {\"outlinewidth\": 0, \"ticks\": \"\"}, \"colorscale\": [[0.0, \"#0d0887\"], [0.1111111111111111, \"#46039f\"], [0.2222222222222222, \"#7201a8\"], [0.3333333333333333, \"#9c179e\"], [0.4444444444444444, \"#bd3786\"], [0.5555555555555556, \"#d8576b\"], [0.6666666666666666, \"#ed7953\"], [0.7777777777777778, \"#fb9f3a\"], [0.8888888888888888, \"#fdca26\"], [1.0, \"#f0f921\"]], \"type\": \"histogram2dcontour\"}], \"mesh3d\": [{\"colorbar\": {\"outlinewidth\": 0, \"ticks\": \"\"}, \"type\": \"mesh3d\"}], \"parcoords\": [{\"line\": {\"colorbar\": {\"outlinewidth\": 0, \"ticks\": \"\"}}, \"type\": \"parcoords\"}], \"pie\": [{\"automargin\": true, \"type\": \"pie\"}], \"scatter\": [{\"marker\": {\"colorbar\": {\"outlinewidth\": 0, \"ticks\": \"\"}}, \"type\": \"scatter\"}], \"scatter3d\": [{\"line\": {\"colorbar\": {\"outlinewidth\": 0, \"ticks\": \"\"}}, \"marker\": {\"colorbar\": {\"outlinewidth\": 0, \"ticks\": \"\"}}, \"type\": \"scatter3d\"}], \"scattercarpet\": [{\"marker\": {\"colorbar\": {\"outlinewidth\": 0, \"ticks\": \"\"}}, \"type\": \"scattercarpet\"}], \"scattergeo\": [{\"marker\": {\"colorbar\": {\"outlinewidth\": 0, \"ticks\": \"\"}}, \"type\": \"scattergeo\"}], \"scattergl\": [{\"marker\": {\"colorbar\": {\"outlinewidth\": 0, \"ticks\": \"\"}}, \"type\": \"scattergl\"}], \"scattermapbox\": [{\"marker\": {\"colorbar\": {\"outlinewidth\": 0, \"ticks\": \"\"}}, \"type\": \"scattermapbox\"}], \"scatterpolar\": [{\"marker\": {\"colorbar\": {\"outlinewidth\": 0, \"ticks\": \"\"}}, \"type\": \"scatterpolar\"}], \"scatterpolargl\": [{\"marker\": {\"colorbar\": {\"outlinewidth\": 0, \"ticks\": \"\"}}, \"type\": \"scatterpolargl\"}], \"scatterternary\": [{\"marker\": {\"colorbar\": {\"outlinewidth\": 0, \"ticks\": \"\"}}, \"type\": \"scatterternary\"}], \"surface\": [{\"colorbar\": {\"outlinewidth\": 0, \"ticks\": \"\"}, \"colorscale\": [[0.0, \"#0d0887\"], [0.1111111111111111, \"#46039f\"], [0.2222222222222222, \"#7201a8\"], [0.3333333333333333, \"#9c179e\"], [0.4444444444444444, \"#bd3786\"], [0.5555555555555556, \"#d8576b\"], [0.6666666666666666, \"#ed7953\"], [0.7777777777777778, \"#fb9f3a\"], [0.8888888888888888, \"#fdca26\"], [1.0, \"#f0f921\"]], \"type\": \"surface\"}], \"table\": [{\"cells\": {\"fill\": {\"color\": \"#EBF0F8\"}, \"line\": {\"color\": \"white\"}}, \"header\": {\"fill\": {\"color\": \"#C8D4E3\"}, \"line\": {\"color\": \"white\"}}, \"type\": \"table\"}]}, \"layout\": {\"annotationdefaults\": {\"arrowcolor\": \"#2a3f5f\", \"arrowhead\": 0, \"arrowwidth\": 1}, \"coloraxis\": {\"colorbar\": {\"outlinewidth\": 0, \"ticks\": \"\"}}, \"colorscale\": {\"diverging\": [[0, \"#8e0152\"], [0.1, \"#c51b7d\"], [0.2, \"#de77ae\"], [0.3, \"#f1b6da\"], [0.4, \"#fde0ef\"], [0.5, \"#f7f7f7\"], [0.6, \"#e6f5d0\"], [0.7, \"#b8e186\"], [0.8, \"#7fbc41\"], [0.9, \"#4d9221\"], [1, \"#276419\"]], \"sequential\": [[0.0, \"#0d0887\"], [0.1111111111111111, \"#46039f\"], [0.2222222222222222, \"#7201a8\"], [0.3333333333333333, \"#9c179e\"], [0.4444444444444444, \"#bd3786\"], [0.5555555555555556, \"#d8576b\"], [0.6666666666666666, \"#ed7953\"], [0.7777777777777778, \"#fb9f3a\"], [0.8888888888888888, \"#fdca26\"], [1.0, \"#f0f921\"]], \"sequentialminus\": [[0.0, \"#0d0887\"], [0.1111111111111111, \"#46039f\"], [0.2222222222222222, \"#7201a8\"], [0.3333333333333333, \"#9c179e\"], [0.4444444444444444, \"#bd3786\"], [0.5555555555555556, \"#d8576b\"], [0.6666666666666666, \"#ed7953\"], [0.7777777777777778, \"#fb9f3a\"], [0.8888888888888888, \"#fdca26\"], [1.0, \"#f0f921\"]]}, \"colorway\": [\"#636efa\", \"#EF553B\", \"#00cc96\", \"#ab63fa\", \"#FFA15A\", \"#19d3f3\", \"#FF6692\", \"#B6E880\", \"#FF97FF\", \"#FECB52\"], \"font\": {\"color\": \"#2a3f5f\"}, \"geo\": {\"bgcolor\": \"white\", \"lakecolor\": \"white\", \"landcolor\": \"#E5ECF6\", \"showlakes\": true, \"showland\": true, \"subunitcolor\": \"white\"}, \"hoverlabel\": {\"align\": \"left\"}, \"hovermode\": \"closest\", \"mapbox\": {\"style\": \"light\"}, \"paper_bgcolor\": \"white\", \"plot_bgcolor\": \"#E5ECF6\", \"polar\": {\"angularaxis\": {\"gridcolor\": \"white\", \"linecolor\": \"white\", \"ticks\": \"\"}, \"bgcolor\": \"#E5ECF6\", \"radialaxis\": {\"gridcolor\": \"white\", \"linecolor\": \"white\", \"ticks\": \"\"}}, \"scene\": {\"xaxis\": {\"backgroundcolor\": \"#E5ECF6\", \"gridcolor\": \"white\", \"gridwidth\": 2, \"linecolor\": \"white\", \"showbackground\": true, \"ticks\": \"\", \"zerolinecolor\": \"white\"}, \"yaxis\": {\"backgroundcolor\": \"#E5ECF6\", \"gridcolor\": \"white\", \"gridwidth\": 2, \"linecolor\": \"white\", \"showbackground\": true, \"ticks\": \"\", \"zerolinecolor\": \"white\"}, \"zaxis\": {\"backgroundcolor\": \"#E5ECF6\", \"gridcolor\": \"white\", \"gridwidth\": 2, \"linecolor\": \"white\", \"showbackground\": true, \"ticks\": \"\", \"zerolinecolor\": \"white\"}}, \"shapedefaults\": {\"line\": {\"color\": \"#2a3f5f\"}}, \"ternary\": {\"aaxis\": {\"gridcolor\": \"white\", \"linecolor\": \"white\", \"ticks\": \"\"}, \"baxis\": {\"gridcolor\": \"white\", \"linecolor\": \"white\", \"ticks\": \"\"}, \"bgcolor\": \"#E5ECF6\", \"caxis\": {\"gridcolor\": \"white\", \"linecolor\": \"white\", \"ticks\": \"\"}}, \"title\": {\"x\": 0.05}, \"xaxis\": {\"automargin\": true, \"gridcolor\": \"white\", \"linecolor\": \"white\", \"ticks\": \"\", \"title\": {\"standoff\": 15}, \"zerolinecolor\": \"white\", \"zerolinewidth\": 2}, \"yaxis\": {\"automargin\": true, \"gridcolor\": \"white\", \"linecolor\": \"white\", \"ticks\": \"\", \"title\": {\"standoff\": 15}, \"zerolinecolor\": \"white\", \"zerolinewidth\": 2}}}, \"title\": {\"text\": \"Cases by geography\"}},\n",
       "                        {\"responsive\": true}\n",
       "                    ).then(function(){\n",
       "                            \n",
       "var gd = document.getElementById('5690c0bf-4f2f-4359-810e-12adb1eecdb9');\n",
       "var x = new MutationObserver(function (mutations, observer) {{\n",
       "        var display = window.getComputedStyle(gd).display;\n",
       "        if (!display || display === 'none') {{\n",
       "            console.log([gd, 'removed!']);\n",
       "            Plotly.purge(gd);\n",
       "            observer.disconnect();\n",
       "        }}\n",
       "}});\n",
       "\n",
       "// Listen for the removal of the full notebook cells\n",
       "var notebookContainer = gd.closest('#notebook-container');\n",
       "if (notebookContainer) {{\n",
       "    x.observe(notebookContainer, {childList: true});\n",
       "}}\n",
       "\n",
       "// Listen for the clearing of the current output cell\n",
       "var outputEl = gd.closest('.output');\n",
       "if (outputEl) {{\n",
       "    x.observe(outputEl, {childList: true});\n",
       "}}\n",
       "\n",
       "                        })\n",
       "                };\n",
       "                });\n",
       "            </script>\n",
       "        </div>"
      ]
     },
     "metadata": {},
     "output_type": "display_data"
    }
   ],
   "source": [
    "formated_gdf = lockdown_geo.groupby(['Province_State', 'Country_Region'])['ConfirmedCases', 'Fatalities', 'Lat', 'Long'].max()\n",
    "formated_gdf = formated_gdf.reset_index()\n",
    "# formated_gdf['Date'] = pd.to_datetime(formated_gdf['Date'])\n",
    "# formated_gdf['Date'] = formated_gdf['Date'].dt.strftime('%m/%d/%Y')\n",
    "formated_gdf['Size'] = formated_gdf['ConfirmedCases'].pow(0.3)\n",
    "formated_gdf['Location'] = formated_gdf['Province_State'].astype(str) + ' / ' + formated_gdf['Country_Region'].astype(str)\n",
    "\n",
    "fig = px.scatter_geo(formated_gdf, lat='Lat', lon='Long', \n",
    "                     size='Size', hover_name=\"Location\", hover_data=[\"ConfirmedCases\"],color_discrete_sequence=[dth],\n",
    "                     title='Spread over time')\n",
    "\n",
    "            \n",
    "fig.update(layout_coloraxis_showscale=False)\n",
    "fig.update_geos(\n",
    "    resolution=50,\n",
    "    showland=True, landcolor=\"DarkGrey\",\n",
    "    showocean=True, oceancolor=\"DimGrey\",\n",
    "    showlakes=True, lakecolor=\"DimGrey\",\n",
    "    showcountries=True, countrycolor=\"lightGrey\"\n",
    ")\n",
    "fig.update_layout(\n",
    "    title={\n",
    "        'text': \"Cases by geography\"})\n",
    "\n",
    "fig.update_layout(margin={\"r\":0,\"t\":100,\"l\":0,\"b\":0})\n",
    "#fig.update_geos(lataxis_showgrid=True, lonaxis_showgrid=True)\n",
    "\n",
    "fig.show()"
   ]
  },
  {
   "cell_type": "code",
   "execution_count": 12,
   "metadata": {
    "scrolled": true
   },
   "outputs": [],
   "source": [
    "lockdown_geo['Location'] = lockdown_geo['Province_State'].astype(str) + '_' + lockdown_geo['Country_Region'].astype(str)\n"
   ]
  },
  {
   "cell_type": "code",
   "execution_count": 13,
   "metadata": {
    "scrolled": true
   },
   "outputs": [],
   "source": [
    "# test_locations = test_features_set[:,6,-1].tolist()\n",
    "# test_dates = test_features_set[:,6,1].tolist()\n",
    "# locs = encoders['Location'].inverse_transform([int(i) for i in test_locations]).tolist()\n",
    "# # [loc for loc in locs if '_US' in loc]\n",
    "\n",
    "# dates = encoders['Date'].inverse_transform([int(i) for i in test_dates]).tolist()\n",
    "# # [loc for loc in locs if '_US' in loc]\n",
    "\n",
    "# Forecast = pd.DataFrame({'Forecasted_cases': out.reshape((len(test_dates),)).tolist(), 'location': locs, 'Date': dates, 'True_cases': test_labels.tolist()})\n",
    "\n",
    "# US_Forecast = Forecast[Forecast.location.astype(str).str.contains('_US')]\n",
    "\n"
   ]
  },
  {
   "cell_type": "code",
   "execution_count": 14,
   "metadata": {
    "scrolled": false
   },
   "outputs": [],
   "source": [
    "# fig = go.Figure()\n",
    "# for location in ['0.0_Spain', 'Washington_US', 'Michigan_US']:#US_Forecast.location.unique().tolist():\n",
    "#     location_df = Forecast[Forecast.location == location]\n",
    "# #     country_df = lockdown_geo[lockdown_geo.Country_Region == country].groupby(['Date']).agg({'Fatalities': 'sum'}).reset_index()\n",
    "#     fig.add_trace(go.Scatter(x=location_df.Date, y=location_df.True_cases,\n",
    "#                         mode='lines+markers',\n",
    "#                         name=location+' - True Cases'))\n",
    "\n",
    "#     fig.add_trace(go.Scatter(x=location_df.Date, y=location_df.Forecasted_cases,\n",
    "#                         mode='lines+markers',\n",
    "#                         name=location+' - Forecasted Cases'))\n",
    "\n",
    "#     fig.update_layout(\n",
    "#         title={\n",
    "#             'text': \"Fatalities over time\"})\n",
    "\n",
    "# fig.show()\n",
    "    \n",
    "    "
   ]
  },
  {
   "cell_type": "code",
   "execution_count": null,
   "metadata": {},
   "outputs": [],
   "source": []
  },
  {
   "cell_type": "code",
   "execution_count": null,
   "metadata": {},
   "outputs": [],
   "source": []
  }
 ],
 "metadata": {
  "kernelspec": {
   "display_name": "Python 3",
   "language": "python",
   "name": "python3"
  },
  "language_info": {
   "codemirror_mode": {
    "name": "ipython",
    "version": 3
   },
   "file_extension": ".py",
   "mimetype": "text/x-python",
   "name": "python",
   "nbconvert_exporter": "python",
   "pygments_lexer": "ipython3",
   "version": "3.7.3"
  }
 },
 "nbformat": 4,
 "nbformat_minor": 4
}
